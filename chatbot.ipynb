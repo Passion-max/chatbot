{
  "nbformat": 4,
  "nbformat_minor": 0,
  "metadata": {
    "colab": {
      "provenance": []
    },
    "kernelspec": {
      "name": "python3",
      "display_name": "Python 3"
    },
    "language_info": {
      "name": "python"
    },
    "widgets": {
      "application/vnd.jupyter.widget-state+json": {
        "b39bb8ca68a64b17ba31b5e3717fd38e": {
          "model_module": "@jupyter-widgets/controls",
          "model_name": "HBoxModel",
          "model_module_version": "1.5.0",
          "state": {
            "_dom_classes": [],
            "_model_module": "@jupyter-widgets/controls",
            "_model_module_version": "1.5.0",
            "_model_name": "HBoxModel",
            "_view_count": null,
            "_view_module": "@jupyter-widgets/controls",
            "_view_module_version": "1.5.0",
            "_view_name": "HBoxView",
            "box_style": "",
            "children": [
              "IPY_MODEL_d06de1d4d8d047f3920bc579f06010fd",
              "IPY_MODEL_fe6e5d7787cf4e04b8f560a8933f1e4f",
              "IPY_MODEL_46c62ed7d8474df090687812cd04e5d9"
            ],
            "layout": "IPY_MODEL_a5583c685c504317bb6031ac0b1939b8"
          }
        },
        "d06de1d4d8d047f3920bc579f06010fd": {
          "model_module": "@jupyter-widgets/controls",
          "model_name": "HTMLModel",
          "model_module_version": "1.5.0",
          "state": {
            "_dom_classes": [],
            "_model_module": "@jupyter-widgets/controls",
            "_model_module_version": "1.5.0",
            "_model_name": "HTMLModel",
            "_view_count": null,
            "_view_module": "@jupyter-widgets/controls",
            "_view_module_version": "1.5.0",
            "_view_name": "HTMLView",
            "description": "",
            "description_tooltip": null,
            "layout": "IPY_MODEL_0e7c234367824702bd395a56103bf7fe",
            "placeholder": "​",
            "style": "IPY_MODEL_da9296770367459e86b3ae89649da915",
            "value": "Fetching 5 files: 100%"
          }
        },
        "fe6e5d7787cf4e04b8f560a8933f1e4f": {
          "model_module": "@jupyter-widgets/controls",
          "model_name": "FloatProgressModel",
          "model_module_version": "1.5.0",
          "state": {
            "_dom_classes": [],
            "_model_module": "@jupyter-widgets/controls",
            "_model_module_version": "1.5.0",
            "_model_name": "FloatProgressModel",
            "_view_count": null,
            "_view_module": "@jupyter-widgets/controls",
            "_view_module_version": "1.5.0",
            "_view_name": "ProgressView",
            "bar_style": "success",
            "description": "",
            "description_tooltip": null,
            "layout": "IPY_MODEL_3d52347cc40445239f6860f42eae9436",
            "max": 5,
            "min": 0,
            "orientation": "horizontal",
            "style": "IPY_MODEL_1a255e74a7834141baefb783aaa918ba",
            "value": 5
          }
        },
        "46c62ed7d8474df090687812cd04e5d9": {
          "model_module": "@jupyter-widgets/controls",
          "model_name": "HTMLModel",
          "model_module_version": "1.5.0",
          "state": {
            "_dom_classes": [],
            "_model_module": "@jupyter-widgets/controls",
            "_model_module_version": "1.5.0",
            "_model_name": "HTMLModel",
            "_view_count": null,
            "_view_module": "@jupyter-widgets/controls",
            "_view_module_version": "1.5.0",
            "_view_name": "HTMLView",
            "description": "",
            "description_tooltip": null,
            "layout": "IPY_MODEL_b8aba61798384e21887040ceef863247",
            "placeholder": "​",
            "style": "IPY_MODEL_8f794f53d49c4c6baa9d13b800839713",
            "value": " 5/5 [00:02&lt;00:00,  1.26s/it]"
          }
        },
        "a5583c685c504317bb6031ac0b1939b8": {
          "model_module": "@jupyter-widgets/base",
          "model_name": "LayoutModel",
          "model_module_version": "1.2.0",
          "state": {
            "_model_module": "@jupyter-widgets/base",
            "_model_module_version": "1.2.0",
            "_model_name": "LayoutModel",
            "_view_count": null,
            "_view_module": "@jupyter-widgets/base",
            "_view_module_version": "1.2.0",
            "_view_name": "LayoutView",
            "align_content": null,
            "align_items": null,
            "align_self": null,
            "border": null,
            "bottom": null,
            "display": null,
            "flex": null,
            "flex_flow": null,
            "grid_area": null,
            "grid_auto_columns": null,
            "grid_auto_flow": null,
            "grid_auto_rows": null,
            "grid_column": null,
            "grid_gap": null,
            "grid_row": null,
            "grid_template_areas": null,
            "grid_template_columns": null,
            "grid_template_rows": null,
            "height": null,
            "justify_content": null,
            "justify_items": null,
            "left": null,
            "margin": null,
            "max_height": null,
            "max_width": null,
            "min_height": null,
            "min_width": null,
            "object_fit": null,
            "object_position": null,
            "order": null,
            "overflow": null,
            "overflow_x": null,
            "overflow_y": null,
            "padding": null,
            "right": null,
            "top": null,
            "visibility": null,
            "width": null
          }
        },
        "0e7c234367824702bd395a56103bf7fe": {
          "model_module": "@jupyter-widgets/base",
          "model_name": "LayoutModel",
          "model_module_version": "1.2.0",
          "state": {
            "_model_module": "@jupyter-widgets/base",
            "_model_module_version": "1.2.0",
            "_model_name": "LayoutModel",
            "_view_count": null,
            "_view_module": "@jupyter-widgets/base",
            "_view_module_version": "1.2.0",
            "_view_name": "LayoutView",
            "align_content": null,
            "align_items": null,
            "align_self": null,
            "border": null,
            "bottom": null,
            "display": null,
            "flex": null,
            "flex_flow": null,
            "grid_area": null,
            "grid_auto_columns": null,
            "grid_auto_flow": null,
            "grid_auto_rows": null,
            "grid_column": null,
            "grid_gap": null,
            "grid_row": null,
            "grid_template_areas": null,
            "grid_template_columns": null,
            "grid_template_rows": null,
            "height": null,
            "justify_content": null,
            "justify_items": null,
            "left": null,
            "margin": null,
            "max_height": null,
            "max_width": null,
            "min_height": null,
            "min_width": null,
            "object_fit": null,
            "object_position": null,
            "order": null,
            "overflow": null,
            "overflow_x": null,
            "overflow_y": null,
            "padding": null,
            "right": null,
            "top": null,
            "visibility": null,
            "width": null
          }
        },
        "da9296770367459e86b3ae89649da915": {
          "model_module": "@jupyter-widgets/controls",
          "model_name": "DescriptionStyleModel",
          "model_module_version": "1.5.0",
          "state": {
            "_model_module": "@jupyter-widgets/controls",
            "_model_module_version": "1.5.0",
            "_model_name": "DescriptionStyleModel",
            "_view_count": null,
            "_view_module": "@jupyter-widgets/base",
            "_view_module_version": "1.2.0",
            "_view_name": "StyleView",
            "description_width": ""
          }
        },
        "3d52347cc40445239f6860f42eae9436": {
          "model_module": "@jupyter-widgets/base",
          "model_name": "LayoutModel",
          "model_module_version": "1.2.0",
          "state": {
            "_model_module": "@jupyter-widgets/base",
            "_model_module_version": "1.2.0",
            "_model_name": "LayoutModel",
            "_view_count": null,
            "_view_module": "@jupyter-widgets/base",
            "_view_module_version": "1.2.0",
            "_view_name": "LayoutView",
            "align_content": null,
            "align_items": null,
            "align_self": null,
            "border": null,
            "bottom": null,
            "display": null,
            "flex": null,
            "flex_flow": null,
            "grid_area": null,
            "grid_auto_columns": null,
            "grid_auto_flow": null,
            "grid_auto_rows": null,
            "grid_column": null,
            "grid_gap": null,
            "grid_row": null,
            "grid_template_areas": null,
            "grid_template_columns": null,
            "grid_template_rows": null,
            "height": null,
            "justify_content": null,
            "justify_items": null,
            "left": null,
            "margin": null,
            "max_height": null,
            "max_width": null,
            "min_height": null,
            "min_width": null,
            "object_fit": null,
            "object_position": null,
            "order": null,
            "overflow": null,
            "overflow_x": null,
            "overflow_y": null,
            "padding": null,
            "right": null,
            "top": null,
            "visibility": null,
            "width": null
          }
        },
        "1a255e74a7834141baefb783aaa918ba": {
          "model_module": "@jupyter-widgets/controls",
          "model_name": "ProgressStyleModel",
          "model_module_version": "1.5.0",
          "state": {
            "_model_module": "@jupyter-widgets/controls",
            "_model_module_version": "1.5.0",
            "_model_name": "ProgressStyleModel",
            "_view_count": null,
            "_view_module": "@jupyter-widgets/base",
            "_view_module_version": "1.2.0",
            "_view_name": "StyleView",
            "bar_color": null,
            "description_width": ""
          }
        },
        "b8aba61798384e21887040ceef863247": {
          "model_module": "@jupyter-widgets/base",
          "model_name": "LayoutModel",
          "model_module_version": "1.2.0",
          "state": {
            "_model_module": "@jupyter-widgets/base",
            "_model_module_version": "1.2.0",
            "_model_name": "LayoutModel",
            "_view_count": null,
            "_view_module": "@jupyter-widgets/base",
            "_view_module_version": "1.2.0",
            "_view_name": "LayoutView",
            "align_content": null,
            "align_items": null,
            "align_self": null,
            "border": null,
            "bottom": null,
            "display": null,
            "flex": null,
            "flex_flow": null,
            "grid_area": null,
            "grid_auto_columns": null,
            "grid_auto_flow": null,
            "grid_auto_rows": null,
            "grid_column": null,
            "grid_gap": null,
            "grid_row": null,
            "grid_template_areas": null,
            "grid_template_columns": null,
            "grid_template_rows": null,
            "height": null,
            "justify_content": null,
            "justify_items": null,
            "left": null,
            "margin": null,
            "max_height": null,
            "max_width": null,
            "min_height": null,
            "min_width": null,
            "object_fit": null,
            "object_position": null,
            "order": null,
            "overflow": null,
            "overflow_x": null,
            "overflow_y": null,
            "padding": null,
            "right": null,
            "top": null,
            "visibility": null,
            "width": null
          }
        },
        "8f794f53d49c4c6baa9d13b800839713": {
          "model_module": "@jupyter-widgets/controls",
          "model_name": "DescriptionStyleModel",
          "model_module_version": "1.5.0",
          "state": {
            "_model_module": "@jupyter-widgets/controls",
            "_model_module_version": "1.5.0",
            "_model_name": "DescriptionStyleModel",
            "_view_count": null,
            "_view_module": "@jupyter-widgets/base",
            "_view_module_version": "1.2.0",
            "_view_name": "StyleView",
            "description_width": ""
          }
        },
        "fe3319d5ed75412e9b291f92d09484e8": {
          "model_module": "@jupyter-widgets/controls",
          "model_name": "HBoxModel",
          "model_module_version": "1.5.0",
          "state": {
            "_dom_classes": [],
            "_model_module": "@jupyter-widgets/controls",
            "_model_module_version": "1.5.0",
            "_model_name": "HBoxModel",
            "_view_count": null,
            "_view_module": "@jupyter-widgets/controls",
            "_view_module_version": "1.5.0",
            "_view_name": "HBoxView",
            "box_style": "",
            "children": [
              "IPY_MODEL_259b56168b974e2d9cb0506143c5f862",
              "IPY_MODEL_550d0b937a5b4ef590bd25ddaa6c47ca",
              "IPY_MODEL_2661204800ae43a5a1e3301db7ae847c"
            ],
            "layout": "IPY_MODEL_768a7eec94c14b69ace471e5029b4e02"
          }
        },
        "259b56168b974e2d9cb0506143c5f862": {
          "model_module": "@jupyter-widgets/controls",
          "model_name": "HTMLModel",
          "model_module_version": "1.5.0",
          "state": {
            "_dom_classes": [],
            "_model_module": "@jupyter-widgets/controls",
            "_model_module_version": "1.5.0",
            "_model_name": "HTMLModel",
            "_view_count": null,
            "_view_module": "@jupyter-widgets/controls",
            "_view_module_version": "1.5.0",
            "_view_name": "HTMLView",
            "description": "",
            "description_tooltip": null,
            "layout": "IPY_MODEL_8ffd7ca2d22b4410ac6a7d558d1a979d",
            "placeholder": "​",
            "style": "IPY_MODEL_6c369662c0bf4beaa881b9f9f838e9b4",
            "value": "special_tokens_map.json: 100%"
          }
        },
        "550d0b937a5b4ef590bd25ddaa6c47ca": {
          "model_module": "@jupyter-widgets/controls",
          "model_name": "FloatProgressModel",
          "model_module_version": "1.5.0",
          "state": {
            "_dom_classes": [],
            "_model_module": "@jupyter-widgets/controls",
            "_model_module_version": "1.5.0",
            "_model_name": "FloatProgressModel",
            "_view_count": null,
            "_view_module": "@jupyter-widgets/controls",
            "_view_module_version": "1.5.0",
            "_view_name": "ProgressView",
            "bar_style": "success",
            "description": "",
            "description_tooltip": null,
            "layout": "IPY_MODEL_cc1c9a4beaec45d5948cb41fcf647e7e",
            "max": 695,
            "min": 0,
            "orientation": "horizontal",
            "style": "IPY_MODEL_000255dc634748888161c8023c6813cc",
            "value": 695
          }
        },
        "2661204800ae43a5a1e3301db7ae847c": {
          "model_module": "@jupyter-widgets/controls",
          "model_name": "HTMLModel",
          "model_module_version": "1.5.0",
          "state": {
            "_dom_classes": [],
            "_model_module": "@jupyter-widgets/controls",
            "_model_module_version": "1.5.0",
            "_model_name": "HTMLModel",
            "_view_count": null,
            "_view_module": "@jupyter-widgets/controls",
            "_view_module_version": "1.5.0",
            "_view_name": "HTMLView",
            "description": "",
            "description_tooltip": null,
            "layout": "IPY_MODEL_bb41b8869b4746d4af731a8f5c88ba1f",
            "placeholder": "​",
            "style": "IPY_MODEL_04897113965648818ddb53e2e78259d0",
            "value": " 695/695 [00:00&lt;00:00, 22.8kB/s]"
          }
        },
        "768a7eec94c14b69ace471e5029b4e02": {
          "model_module": "@jupyter-widgets/base",
          "model_name": "LayoutModel",
          "model_module_version": "1.2.0",
          "state": {
            "_model_module": "@jupyter-widgets/base",
            "_model_module_version": "1.2.0",
            "_model_name": "LayoutModel",
            "_view_count": null,
            "_view_module": "@jupyter-widgets/base",
            "_view_module_version": "1.2.0",
            "_view_name": "LayoutView",
            "align_content": null,
            "align_items": null,
            "align_self": null,
            "border": null,
            "bottom": null,
            "display": null,
            "flex": null,
            "flex_flow": null,
            "grid_area": null,
            "grid_auto_columns": null,
            "grid_auto_flow": null,
            "grid_auto_rows": null,
            "grid_column": null,
            "grid_gap": null,
            "grid_row": null,
            "grid_template_areas": null,
            "grid_template_columns": null,
            "grid_template_rows": null,
            "height": null,
            "justify_content": null,
            "justify_items": null,
            "left": null,
            "margin": null,
            "max_height": null,
            "max_width": null,
            "min_height": null,
            "min_width": null,
            "object_fit": null,
            "object_position": null,
            "order": null,
            "overflow": null,
            "overflow_x": null,
            "overflow_y": null,
            "padding": null,
            "right": null,
            "top": null,
            "visibility": null,
            "width": null
          }
        },
        "8ffd7ca2d22b4410ac6a7d558d1a979d": {
          "model_module": "@jupyter-widgets/base",
          "model_name": "LayoutModel",
          "model_module_version": "1.2.0",
          "state": {
            "_model_module": "@jupyter-widgets/base",
            "_model_module_version": "1.2.0",
            "_model_name": "LayoutModel",
            "_view_count": null,
            "_view_module": "@jupyter-widgets/base",
            "_view_module_version": "1.2.0",
            "_view_name": "LayoutView",
            "align_content": null,
            "align_items": null,
            "align_self": null,
            "border": null,
            "bottom": null,
            "display": null,
            "flex": null,
            "flex_flow": null,
            "grid_area": null,
            "grid_auto_columns": null,
            "grid_auto_flow": null,
            "grid_auto_rows": null,
            "grid_column": null,
            "grid_gap": null,
            "grid_row": null,
            "grid_template_areas": null,
            "grid_template_columns": null,
            "grid_template_rows": null,
            "height": null,
            "justify_content": null,
            "justify_items": null,
            "left": null,
            "margin": null,
            "max_height": null,
            "max_width": null,
            "min_height": null,
            "min_width": null,
            "object_fit": null,
            "object_position": null,
            "order": null,
            "overflow": null,
            "overflow_x": null,
            "overflow_y": null,
            "padding": null,
            "right": null,
            "top": null,
            "visibility": null,
            "width": null
          }
        },
        "6c369662c0bf4beaa881b9f9f838e9b4": {
          "model_module": "@jupyter-widgets/controls",
          "model_name": "DescriptionStyleModel",
          "model_module_version": "1.5.0",
          "state": {
            "_model_module": "@jupyter-widgets/controls",
            "_model_module_version": "1.5.0",
            "_model_name": "DescriptionStyleModel",
            "_view_count": null,
            "_view_module": "@jupyter-widgets/base",
            "_view_module_version": "1.2.0",
            "_view_name": "StyleView",
            "description_width": ""
          }
        },
        "cc1c9a4beaec45d5948cb41fcf647e7e": {
          "model_module": "@jupyter-widgets/base",
          "model_name": "LayoutModel",
          "model_module_version": "1.2.0",
          "state": {
            "_model_module": "@jupyter-widgets/base",
            "_model_module_version": "1.2.0",
            "_model_name": "LayoutModel",
            "_view_count": null,
            "_view_module": "@jupyter-widgets/base",
            "_view_module_version": "1.2.0",
            "_view_name": "LayoutView",
            "align_content": null,
            "align_items": null,
            "align_self": null,
            "border": null,
            "bottom": null,
            "display": null,
            "flex": null,
            "flex_flow": null,
            "grid_area": null,
            "grid_auto_columns": null,
            "grid_auto_flow": null,
            "grid_auto_rows": null,
            "grid_column": null,
            "grid_gap": null,
            "grid_row": null,
            "grid_template_areas": null,
            "grid_template_columns": null,
            "grid_template_rows": null,
            "height": null,
            "justify_content": null,
            "justify_items": null,
            "left": null,
            "margin": null,
            "max_height": null,
            "max_width": null,
            "min_height": null,
            "min_width": null,
            "object_fit": null,
            "object_position": null,
            "order": null,
            "overflow": null,
            "overflow_x": null,
            "overflow_y": null,
            "padding": null,
            "right": null,
            "top": null,
            "visibility": null,
            "width": null
          }
        },
        "000255dc634748888161c8023c6813cc": {
          "model_module": "@jupyter-widgets/controls",
          "model_name": "ProgressStyleModel",
          "model_module_version": "1.5.0",
          "state": {
            "_model_module": "@jupyter-widgets/controls",
            "_model_module_version": "1.5.0",
            "_model_name": "ProgressStyleModel",
            "_view_count": null,
            "_view_module": "@jupyter-widgets/base",
            "_view_module_version": "1.2.0",
            "_view_name": "StyleView",
            "bar_color": null,
            "description_width": ""
          }
        },
        "bb41b8869b4746d4af731a8f5c88ba1f": {
          "model_module": "@jupyter-widgets/base",
          "model_name": "LayoutModel",
          "model_module_version": "1.2.0",
          "state": {
            "_model_module": "@jupyter-widgets/base",
            "_model_module_version": "1.2.0",
            "_model_name": "LayoutModel",
            "_view_count": null,
            "_view_module": "@jupyter-widgets/base",
            "_view_module_version": "1.2.0",
            "_view_name": "LayoutView",
            "align_content": null,
            "align_items": null,
            "align_self": null,
            "border": null,
            "bottom": null,
            "display": null,
            "flex": null,
            "flex_flow": null,
            "grid_area": null,
            "grid_auto_columns": null,
            "grid_auto_flow": null,
            "grid_auto_rows": null,
            "grid_column": null,
            "grid_gap": null,
            "grid_row": null,
            "grid_template_areas": null,
            "grid_template_columns": null,
            "grid_template_rows": null,
            "height": null,
            "justify_content": null,
            "justify_items": null,
            "left": null,
            "margin": null,
            "max_height": null,
            "max_width": null,
            "min_height": null,
            "min_width": null,
            "object_fit": null,
            "object_position": null,
            "order": null,
            "overflow": null,
            "overflow_x": null,
            "overflow_y": null,
            "padding": null,
            "right": null,
            "top": null,
            "visibility": null,
            "width": null
          }
        },
        "04897113965648818ddb53e2e78259d0": {
          "model_module": "@jupyter-widgets/controls",
          "model_name": "DescriptionStyleModel",
          "model_module_version": "1.5.0",
          "state": {
            "_model_module": "@jupyter-widgets/controls",
            "_model_module_version": "1.5.0",
            "_model_name": "DescriptionStyleModel",
            "_view_count": null,
            "_view_module": "@jupyter-widgets/base",
            "_view_module_version": "1.2.0",
            "_view_name": "StyleView",
            "description_width": ""
          }
        },
        "52d039fb2a8f43c38fe55288298ea100": {
          "model_module": "@jupyter-widgets/controls",
          "model_name": "HBoxModel",
          "model_module_version": "1.5.0",
          "state": {
            "_dom_classes": [],
            "_model_module": "@jupyter-widgets/controls",
            "_model_module_version": "1.5.0",
            "_model_name": "HBoxModel",
            "_view_count": null,
            "_view_module": "@jupyter-widgets/controls",
            "_view_module_version": "1.5.0",
            "_view_name": "HBoxView",
            "box_style": "",
            "children": [
              "IPY_MODEL_9bb409fe694c40e9a0fdb078ad79d0e6",
              "IPY_MODEL_9312fb26a97d4ef89f16cf94909312cc",
              "IPY_MODEL_b0135f2c405042609b21cf302e067883"
            ],
            "layout": "IPY_MODEL_3863612c22fe44d7a7558d31edc54b20"
          }
        },
        "9bb409fe694c40e9a0fdb078ad79d0e6": {
          "model_module": "@jupyter-widgets/controls",
          "model_name": "HTMLModel",
          "model_module_version": "1.5.0",
          "state": {
            "_dom_classes": [],
            "_model_module": "@jupyter-widgets/controls",
            "_model_module_version": "1.5.0",
            "_model_name": "HTMLModel",
            "_view_count": null,
            "_view_module": "@jupyter-widgets/controls",
            "_view_module_version": "1.5.0",
            "_view_name": "HTMLView",
            "description": "",
            "description_tooltip": null,
            "layout": "IPY_MODEL_14ce3c8f573643ad98a81f1b2c194728",
            "placeholder": "​",
            "style": "IPY_MODEL_2fe18e03c75b40d8a5859e250438f194",
            "value": "tokenizer.json: 100%"
          }
        },
        "9312fb26a97d4ef89f16cf94909312cc": {
          "model_module": "@jupyter-widgets/controls",
          "model_name": "FloatProgressModel",
          "model_module_version": "1.5.0",
          "state": {
            "_dom_classes": [],
            "_model_module": "@jupyter-widgets/controls",
            "_model_module_version": "1.5.0",
            "_model_name": "FloatProgressModel",
            "_view_count": null,
            "_view_module": "@jupyter-widgets/controls",
            "_view_module_version": "1.5.0",
            "_view_name": "ProgressView",
            "bar_style": "success",
            "description": "",
            "description_tooltip": null,
            "layout": "IPY_MODEL_9d8d5bed429a4c48bcd7ee5f4dbe9d6d",
            "max": 711396,
            "min": 0,
            "orientation": "horizontal",
            "style": "IPY_MODEL_6819d121fdfe4a54aa7f297d833058f5",
            "value": 711396
          }
        },
        "b0135f2c405042609b21cf302e067883": {
          "model_module": "@jupyter-widgets/controls",
          "model_name": "HTMLModel",
          "model_module_version": "1.5.0",
          "state": {
            "_dom_classes": [],
            "_model_module": "@jupyter-widgets/controls",
            "_model_module_version": "1.5.0",
            "_model_name": "HTMLModel",
            "_view_count": null,
            "_view_module": "@jupyter-widgets/controls",
            "_view_module_version": "1.5.0",
            "_view_name": "HTMLView",
            "description": "",
            "description_tooltip": null,
            "layout": "IPY_MODEL_91201961ab6d457bba8b4ab2226dfe62",
            "placeholder": "​",
            "style": "IPY_MODEL_429c5ee283254dd8a745976ec362d299",
            "value": " 711k/711k [00:00&lt;00:00, 3.59MB/s]"
          }
        },
        "3863612c22fe44d7a7558d31edc54b20": {
          "model_module": "@jupyter-widgets/base",
          "model_name": "LayoutModel",
          "model_module_version": "1.2.0",
          "state": {
            "_model_module": "@jupyter-widgets/base",
            "_model_module_version": "1.2.0",
            "_model_name": "LayoutModel",
            "_view_count": null,
            "_view_module": "@jupyter-widgets/base",
            "_view_module_version": "1.2.0",
            "_view_name": "LayoutView",
            "align_content": null,
            "align_items": null,
            "align_self": null,
            "border": null,
            "bottom": null,
            "display": null,
            "flex": null,
            "flex_flow": null,
            "grid_area": null,
            "grid_auto_columns": null,
            "grid_auto_flow": null,
            "grid_auto_rows": null,
            "grid_column": null,
            "grid_gap": null,
            "grid_row": null,
            "grid_template_areas": null,
            "grid_template_columns": null,
            "grid_template_rows": null,
            "height": null,
            "justify_content": null,
            "justify_items": null,
            "left": null,
            "margin": null,
            "max_height": null,
            "max_width": null,
            "min_height": null,
            "min_width": null,
            "object_fit": null,
            "object_position": null,
            "order": null,
            "overflow": null,
            "overflow_x": null,
            "overflow_y": null,
            "padding": null,
            "right": null,
            "top": null,
            "visibility": null,
            "width": null
          }
        },
        "14ce3c8f573643ad98a81f1b2c194728": {
          "model_module": "@jupyter-widgets/base",
          "model_name": "LayoutModel",
          "model_module_version": "1.2.0",
          "state": {
            "_model_module": "@jupyter-widgets/base",
            "_model_module_version": "1.2.0",
            "_model_name": "LayoutModel",
            "_view_count": null,
            "_view_module": "@jupyter-widgets/base",
            "_view_module_version": "1.2.0",
            "_view_name": "LayoutView",
            "align_content": null,
            "align_items": null,
            "align_self": null,
            "border": null,
            "bottom": null,
            "display": null,
            "flex": null,
            "flex_flow": null,
            "grid_area": null,
            "grid_auto_columns": null,
            "grid_auto_flow": null,
            "grid_auto_rows": null,
            "grid_column": null,
            "grid_gap": null,
            "grid_row": null,
            "grid_template_areas": null,
            "grid_template_columns": null,
            "grid_template_rows": null,
            "height": null,
            "justify_content": null,
            "justify_items": null,
            "left": null,
            "margin": null,
            "max_height": null,
            "max_width": null,
            "min_height": null,
            "min_width": null,
            "object_fit": null,
            "object_position": null,
            "order": null,
            "overflow": null,
            "overflow_x": null,
            "overflow_y": null,
            "padding": null,
            "right": null,
            "top": null,
            "visibility": null,
            "width": null
          }
        },
        "2fe18e03c75b40d8a5859e250438f194": {
          "model_module": "@jupyter-widgets/controls",
          "model_name": "DescriptionStyleModel",
          "model_module_version": "1.5.0",
          "state": {
            "_model_module": "@jupyter-widgets/controls",
            "_model_module_version": "1.5.0",
            "_model_name": "DescriptionStyleModel",
            "_view_count": null,
            "_view_module": "@jupyter-widgets/base",
            "_view_module_version": "1.2.0",
            "_view_name": "StyleView",
            "description_width": ""
          }
        },
        "9d8d5bed429a4c48bcd7ee5f4dbe9d6d": {
          "model_module": "@jupyter-widgets/base",
          "model_name": "LayoutModel",
          "model_module_version": "1.2.0",
          "state": {
            "_model_module": "@jupyter-widgets/base",
            "_model_module_version": "1.2.0",
            "_model_name": "LayoutModel",
            "_view_count": null,
            "_view_module": "@jupyter-widgets/base",
            "_view_module_version": "1.2.0",
            "_view_name": "LayoutView",
            "align_content": null,
            "align_items": null,
            "align_self": null,
            "border": null,
            "bottom": null,
            "display": null,
            "flex": null,
            "flex_flow": null,
            "grid_area": null,
            "grid_auto_columns": null,
            "grid_auto_flow": null,
            "grid_auto_rows": null,
            "grid_column": null,
            "grid_gap": null,
            "grid_row": null,
            "grid_template_areas": null,
            "grid_template_columns": null,
            "grid_template_rows": null,
            "height": null,
            "justify_content": null,
            "justify_items": null,
            "left": null,
            "margin": null,
            "max_height": null,
            "max_width": null,
            "min_height": null,
            "min_width": null,
            "object_fit": null,
            "object_position": null,
            "order": null,
            "overflow": null,
            "overflow_x": null,
            "overflow_y": null,
            "padding": null,
            "right": null,
            "top": null,
            "visibility": null,
            "width": null
          }
        },
        "6819d121fdfe4a54aa7f297d833058f5": {
          "model_module": "@jupyter-widgets/controls",
          "model_name": "ProgressStyleModel",
          "model_module_version": "1.5.0",
          "state": {
            "_model_module": "@jupyter-widgets/controls",
            "_model_module_version": "1.5.0",
            "_model_name": "ProgressStyleModel",
            "_view_count": null,
            "_view_module": "@jupyter-widgets/base",
            "_view_module_version": "1.2.0",
            "_view_name": "StyleView",
            "bar_color": null,
            "description_width": ""
          }
        },
        "91201961ab6d457bba8b4ab2226dfe62": {
          "model_module": "@jupyter-widgets/base",
          "model_name": "LayoutModel",
          "model_module_version": "1.2.0",
          "state": {
            "_model_module": "@jupyter-widgets/base",
            "_model_module_version": "1.2.0",
            "_model_name": "LayoutModel",
            "_view_count": null,
            "_view_module": "@jupyter-widgets/base",
            "_view_module_version": "1.2.0",
            "_view_name": "LayoutView",
            "align_content": null,
            "align_items": null,
            "align_self": null,
            "border": null,
            "bottom": null,
            "display": null,
            "flex": null,
            "flex_flow": null,
            "grid_area": null,
            "grid_auto_columns": null,
            "grid_auto_flow": null,
            "grid_auto_rows": null,
            "grid_column": null,
            "grid_gap": null,
            "grid_row": null,
            "grid_template_areas": null,
            "grid_template_columns": null,
            "grid_template_rows": null,
            "height": null,
            "justify_content": null,
            "justify_items": null,
            "left": null,
            "margin": null,
            "max_height": null,
            "max_width": null,
            "min_height": null,
            "min_width": null,
            "object_fit": null,
            "object_position": null,
            "order": null,
            "overflow": null,
            "overflow_x": null,
            "overflow_y": null,
            "padding": null,
            "right": null,
            "top": null,
            "visibility": null,
            "width": null
          }
        },
        "429c5ee283254dd8a745976ec362d299": {
          "model_module": "@jupyter-widgets/controls",
          "model_name": "DescriptionStyleModel",
          "model_module_version": "1.5.0",
          "state": {
            "_model_module": "@jupyter-widgets/controls",
            "_model_module_version": "1.5.0",
            "_model_name": "DescriptionStyleModel",
            "_view_count": null,
            "_view_module": "@jupyter-widgets/base",
            "_view_module_version": "1.2.0",
            "_view_name": "StyleView",
            "description_width": ""
          }
        },
        "69a317e20bde42a3b912df2c8e77d1c6": {
          "model_module": "@jupyter-widgets/controls",
          "model_name": "HBoxModel",
          "model_module_version": "1.5.0",
          "state": {
            "_dom_classes": [],
            "_model_module": "@jupyter-widgets/controls",
            "_model_module_version": "1.5.0",
            "_model_name": "HBoxModel",
            "_view_count": null,
            "_view_module": "@jupyter-widgets/controls",
            "_view_module_version": "1.5.0",
            "_view_name": "HBoxView",
            "box_style": "",
            "children": [
              "IPY_MODEL_3ce071354860453d8d89a516bc1763f5",
              "IPY_MODEL_78d819b647dc484493d83727646e6659",
              "IPY_MODEL_b99ab822bbb746fdae0fa63db7fdefba"
            ],
            "layout": "IPY_MODEL_7b77734d25404fc6a2b28c1c8da03cfa"
          }
        },
        "3ce071354860453d8d89a516bc1763f5": {
          "model_module": "@jupyter-widgets/controls",
          "model_name": "HTMLModel",
          "model_module_version": "1.5.0",
          "state": {
            "_dom_classes": [],
            "_model_module": "@jupyter-widgets/controls",
            "_model_module_version": "1.5.0",
            "_model_name": "HTMLModel",
            "_view_count": null,
            "_view_module": "@jupyter-widgets/controls",
            "_view_module_version": "1.5.0",
            "_view_name": "HTMLView",
            "description": "",
            "description_tooltip": null,
            "layout": "IPY_MODEL_6336411d415249f8a0ed5c786de3cfa8",
            "placeholder": "​",
            "style": "IPY_MODEL_053abbae9cae4b31a82be8c97f2397d5",
            "value": "config.json: 100%"
          }
        },
        "78d819b647dc484493d83727646e6659": {
          "model_module": "@jupyter-widgets/controls",
          "model_name": "FloatProgressModel",
          "model_module_version": "1.5.0",
          "state": {
            "_dom_classes": [],
            "_model_module": "@jupyter-widgets/controls",
            "_model_module_version": "1.5.0",
            "_model_name": "FloatProgressModel",
            "_view_count": null,
            "_view_module": "@jupyter-widgets/controls",
            "_view_module_version": "1.5.0",
            "_view_name": "ProgressView",
            "bar_style": "success",
            "description": "",
            "description_tooltip": null,
            "layout": "IPY_MODEL_eed25ed00854474cadb2647ab33b4dff",
            "max": 740,
            "min": 0,
            "orientation": "horizontal",
            "style": "IPY_MODEL_e9882fb9db624eebaf1ab3bc1f584b7a",
            "value": 740
          }
        },
        "b99ab822bbb746fdae0fa63db7fdefba": {
          "model_module": "@jupyter-widgets/controls",
          "model_name": "HTMLModel",
          "model_module_version": "1.5.0",
          "state": {
            "_dom_classes": [],
            "_model_module": "@jupyter-widgets/controls",
            "_model_module_version": "1.5.0",
            "_model_name": "HTMLModel",
            "_view_count": null,
            "_view_module": "@jupyter-widgets/controls",
            "_view_module_version": "1.5.0",
            "_view_name": "HTMLView",
            "description": "",
            "description_tooltip": null,
            "layout": "IPY_MODEL_b0b17d7e3e6b4f0d897f8bba3b9ecdc3",
            "placeholder": "​",
            "style": "IPY_MODEL_c30546bf185b4ae6aa0b950450a3527f",
            "value": " 740/740 [00:00&lt;00:00, 6.82kB/s]"
          }
        },
        "7b77734d25404fc6a2b28c1c8da03cfa": {
          "model_module": "@jupyter-widgets/base",
          "model_name": "LayoutModel",
          "model_module_version": "1.2.0",
          "state": {
            "_model_module": "@jupyter-widgets/base",
            "_model_module_version": "1.2.0",
            "_model_name": "LayoutModel",
            "_view_count": null,
            "_view_module": "@jupyter-widgets/base",
            "_view_module_version": "1.2.0",
            "_view_name": "LayoutView",
            "align_content": null,
            "align_items": null,
            "align_self": null,
            "border": null,
            "bottom": null,
            "display": null,
            "flex": null,
            "flex_flow": null,
            "grid_area": null,
            "grid_auto_columns": null,
            "grid_auto_flow": null,
            "grid_auto_rows": null,
            "grid_column": null,
            "grid_gap": null,
            "grid_row": null,
            "grid_template_areas": null,
            "grid_template_columns": null,
            "grid_template_rows": null,
            "height": null,
            "justify_content": null,
            "justify_items": null,
            "left": null,
            "margin": null,
            "max_height": null,
            "max_width": null,
            "min_height": null,
            "min_width": null,
            "object_fit": null,
            "object_position": null,
            "order": null,
            "overflow": null,
            "overflow_x": null,
            "overflow_y": null,
            "padding": null,
            "right": null,
            "top": null,
            "visibility": null,
            "width": null
          }
        },
        "6336411d415249f8a0ed5c786de3cfa8": {
          "model_module": "@jupyter-widgets/base",
          "model_name": "LayoutModel",
          "model_module_version": "1.2.0",
          "state": {
            "_model_module": "@jupyter-widgets/base",
            "_model_module_version": "1.2.0",
            "_model_name": "LayoutModel",
            "_view_count": null,
            "_view_module": "@jupyter-widgets/base",
            "_view_module_version": "1.2.0",
            "_view_name": "LayoutView",
            "align_content": null,
            "align_items": null,
            "align_self": null,
            "border": null,
            "bottom": null,
            "display": null,
            "flex": null,
            "flex_flow": null,
            "grid_area": null,
            "grid_auto_columns": null,
            "grid_auto_flow": null,
            "grid_auto_rows": null,
            "grid_column": null,
            "grid_gap": null,
            "grid_row": null,
            "grid_template_areas": null,
            "grid_template_columns": null,
            "grid_template_rows": null,
            "height": null,
            "justify_content": null,
            "justify_items": null,
            "left": null,
            "margin": null,
            "max_height": null,
            "max_width": null,
            "min_height": null,
            "min_width": null,
            "object_fit": null,
            "object_position": null,
            "order": null,
            "overflow": null,
            "overflow_x": null,
            "overflow_y": null,
            "padding": null,
            "right": null,
            "top": null,
            "visibility": null,
            "width": null
          }
        },
        "053abbae9cae4b31a82be8c97f2397d5": {
          "model_module": "@jupyter-widgets/controls",
          "model_name": "DescriptionStyleModel",
          "model_module_version": "1.5.0",
          "state": {
            "_model_module": "@jupyter-widgets/controls",
            "_model_module_version": "1.5.0",
            "_model_name": "DescriptionStyleModel",
            "_view_count": null,
            "_view_module": "@jupyter-widgets/base",
            "_view_module_version": "1.2.0",
            "_view_name": "StyleView",
            "description_width": ""
          }
        },
        "eed25ed00854474cadb2647ab33b4dff": {
          "model_module": "@jupyter-widgets/base",
          "model_name": "LayoutModel",
          "model_module_version": "1.2.0",
          "state": {
            "_model_module": "@jupyter-widgets/base",
            "_model_module_version": "1.2.0",
            "_model_name": "LayoutModel",
            "_view_count": null,
            "_view_module": "@jupyter-widgets/base",
            "_view_module_version": "1.2.0",
            "_view_name": "LayoutView",
            "align_content": null,
            "align_items": null,
            "align_self": null,
            "border": null,
            "bottom": null,
            "display": null,
            "flex": null,
            "flex_flow": null,
            "grid_area": null,
            "grid_auto_columns": null,
            "grid_auto_flow": null,
            "grid_auto_rows": null,
            "grid_column": null,
            "grid_gap": null,
            "grid_row": null,
            "grid_template_areas": null,
            "grid_template_columns": null,
            "grid_template_rows": null,
            "height": null,
            "justify_content": null,
            "justify_items": null,
            "left": null,
            "margin": null,
            "max_height": null,
            "max_width": null,
            "min_height": null,
            "min_width": null,
            "object_fit": null,
            "object_position": null,
            "order": null,
            "overflow": null,
            "overflow_x": null,
            "overflow_y": null,
            "padding": null,
            "right": null,
            "top": null,
            "visibility": null,
            "width": null
          }
        },
        "e9882fb9db624eebaf1ab3bc1f584b7a": {
          "model_module": "@jupyter-widgets/controls",
          "model_name": "ProgressStyleModel",
          "model_module_version": "1.5.0",
          "state": {
            "_model_module": "@jupyter-widgets/controls",
            "_model_module_version": "1.5.0",
            "_model_name": "ProgressStyleModel",
            "_view_count": null,
            "_view_module": "@jupyter-widgets/base",
            "_view_module_version": "1.2.0",
            "_view_name": "StyleView",
            "bar_color": null,
            "description_width": ""
          }
        },
        "b0b17d7e3e6b4f0d897f8bba3b9ecdc3": {
          "model_module": "@jupyter-widgets/base",
          "model_name": "LayoutModel",
          "model_module_version": "1.2.0",
          "state": {
            "_model_module": "@jupyter-widgets/base",
            "_model_module_version": "1.2.0",
            "_model_name": "LayoutModel",
            "_view_count": null,
            "_view_module": "@jupyter-widgets/base",
            "_view_module_version": "1.2.0",
            "_view_name": "LayoutView",
            "align_content": null,
            "align_items": null,
            "align_self": null,
            "border": null,
            "bottom": null,
            "display": null,
            "flex": null,
            "flex_flow": null,
            "grid_area": null,
            "grid_auto_columns": null,
            "grid_auto_flow": null,
            "grid_auto_rows": null,
            "grid_column": null,
            "grid_gap": null,
            "grid_row": null,
            "grid_template_areas": null,
            "grid_template_columns": null,
            "grid_template_rows": null,
            "height": null,
            "justify_content": null,
            "justify_items": null,
            "left": null,
            "margin": null,
            "max_height": null,
            "max_width": null,
            "min_height": null,
            "min_width": null,
            "object_fit": null,
            "object_position": null,
            "order": null,
            "overflow": null,
            "overflow_x": null,
            "overflow_y": null,
            "padding": null,
            "right": null,
            "top": null,
            "visibility": null,
            "width": null
          }
        },
        "c30546bf185b4ae6aa0b950450a3527f": {
          "model_module": "@jupyter-widgets/controls",
          "model_name": "DescriptionStyleModel",
          "model_module_version": "1.5.0",
          "state": {
            "_model_module": "@jupyter-widgets/controls",
            "_model_module_version": "1.5.0",
            "_model_name": "DescriptionStyleModel",
            "_view_count": null,
            "_view_module": "@jupyter-widgets/base",
            "_view_module_version": "1.2.0",
            "_view_name": "StyleView",
            "description_width": ""
          }
        },
        "f6bbf170a1dc42d4906675f5dd1d1129": {
          "model_module": "@jupyter-widgets/controls",
          "model_name": "HBoxModel",
          "model_module_version": "1.5.0",
          "state": {
            "_dom_classes": [],
            "_model_module": "@jupyter-widgets/controls",
            "_model_module_version": "1.5.0",
            "_model_name": "HBoxModel",
            "_view_count": null,
            "_view_module": "@jupyter-widgets/controls",
            "_view_module_version": "1.5.0",
            "_view_name": "HBoxView",
            "box_style": "",
            "children": [
              "IPY_MODEL_7a2ce4abbf2a4eefa1553581bc3af325",
              "IPY_MODEL_11729e8b9c5749cfa96440ea30b60801",
              "IPY_MODEL_596220a430ee40cb8eb3ecca128eca4b"
            ],
            "layout": "IPY_MODEL_76a4101b62e24a47aa56bf9749e53a07"
          }
        },
        "7a2ce4abbf2a4eefa1553581bc3af325": {
          "model_module": "@jupyter-widgets/controls",
          "model_name": "HTMLModel",
          "model_module_version": "1.5.0",
          "state": {
            "_dom_classes": [],
            "_model_module": "@jupyter-widgets/controls",
            "_model_module_version": "1.5.0",
            "_model_name": "HTMLModel",
            "_view_count": null,
            "_view_module": "@jupyter-widgets/controls",
            "_view_module_version": "1.5.0",
            "_view_name": "HTMLView",
            "description": "",
            "description_tooltip": null,
            "layout": "IPY_MODEL_c186a377c9d5465792215b09ffa68d90",
            "placeholder": "​",
            "style": "IPY_MODEL_82bea686073d49e48b8cb0d26a77f882",
            "value": "tokenizer_config.json: 100%"
          }
        },
        "11729e8b9c5749cfa96440ea30b60801": {
          "model_module": "@jupyter-widgets/controls",
          "model_name": "FloatProgressModel",
          "model_module_version": "1.5.0",
          "state": {
            "_dom_classes": [],
            "_model_module": "@jupyter-widgets/controls",
            "_model_module_version": "1.5.0",
            "_model_name": "FloatProgressModel",
            "_view_count": null,
            "_view_module": "@jupyter-widgets/controls",
            "_view_module_version": "1.5.0",
            "_view_name": "ProgressView",
            "bar_style": "success",
            "description": "",
            "description_tooltip": null,
            "layout": "IPY_MODEL_e73bdd44dfb647ddb5c688ec782a38f7",
            "max": 1242,
            "min": 0,
            "orientation": "horizontal",
            "style": "IPY_MODEL_5925cb501ca74efb990a7fbc76ff35c6",
            "value": 1242
          }
        },
        "596220a430ee40cb8eb3ecca128eca4b": {
          "model_module": "@jupyter-widgets/controls",
          "model_name": "HTMLModel",
          "model_module_version": "1.5.0",
          "state": {
            "_dom_classes": [],
            "_model_module": "@jupyter-widgets/controls",
            "_model_module_version": "1.5.0",
            "_model_name": "HTMLModel",
            "_view_count": null,
            "_view_module": "@jupyter-widgets/controls",
            "_view_module_version": "1.5.0",
            "_view_name": "HTMLView",
            "description": "",
            "description_tooltip": null,
            "layout": "IPY_MODEL_1252fc2577bb4b7591be9f9b45437c9c",
            "placeholder": "​",
            "style": "IPY_MODEL_2a931415f91342ac91a7b13b14876aac",
            "value": " 1.24k/1.24k [00:00&lt;00:00, 10.9kB/s]"
          }
        },
        "76a4101b62e24a47aa56bf9749e53a07": {
          "model_module": "@jupyter-widgets/base",
          "model_name": "LayoutModel",
          "model_module_version": "1.2.0",
          "state": {
            "_model_module": "@jupyter-widgets/base",
            "_model_module_version": "1.2.0",
            "_model_name": "LayoutModel",
            "_view_count": null,
            "_view_module": "@jupyter-widgets/base",
            "_view_module_version": "1.2.0",
            "_view_name": "LayoutView",
            "align_content": null,
            "align_items": null,
            "align_self": null,
            "border": null,
            "bottom": null,
            "display": null,
            "flex": null,
            "flex_flow": null,
            "grid_area": null,
            "grid_auto_columns": null,
            "grid_auto_flow": null,
            "grid_auto_rows": null,
            "grid_column": null,
            "grid_gap": null,
            "grid_row": null,
            "grid_template_areas": null,
            "grid_template_columns": null,
            "grid_template_rows": null,
            "height": null,
            "justify_content": null,
            "justify_items": null,
            "left": null,
            "margin": null,
            "max_height": null,
            "max_width": null,
            "min_height": null,
            "min_width": null,
            "object_fit": null,
            "object_position": null,
            "order": null,
            "overflow": null,
            "overflow_x": null,
            "overflow_y": null,
            "padding": null,
            "right": null,
            "top": null,
            "visibility": null,
            "width": null
          }
        },
        "c186a377c9d5465792215b09ffa68d90": {
          "model_module": "@jupyter-widgets/base",
          "model_name": "LayoutModel",
          "model_module_version": "1.2.0",
          "state": {
            "_model_module": "@jupyter-widgets/base",
            "_model_module_version": "1.2.0",
            "_model_name": "LayoutModel",
            "_view_count": null,
            "_view_module": "@jupyter-widgets/base",
            "_view_module_version": "1.2.0",
            "_view_name": "LayoutView",
            "align_content": null,
            "align_items": null,
            "align_self": null,
            "border": null,
            "bottom": null,
            "display": null,
            "flex": null,
            "flex_flow": null,
            "grid_area": null,
            "grid_auto_columns": null,
            "grid_auto_flow": null,
            "grid_auto_rows": null,
            "grid_column": null,
            "grid_gap": null,
            "grid_row": null,
            "grid_template_areas": null,
            "grid_template_columns": null,
            "grid_template_rows": null,
            "height": null,
            "justify_content": null,
            "justify_items": null,
            "left": null,
            "margin": null,
            "max_height": null,
            "max_width": null,
            "min_height": null,
            "min_width": null,
            "object_fit": null,
            "object_position": null,
            "order": null,
            "overflow": null,
            "overflow_x": null,
            "overflow_y": null,
            "padding": null,
            "right": null,
            "top": null,
            "visibility": null,
            "width": null
          }
        },
        "82bea686073d49e48b8cb0d26a77f882": {
          "model_module": "@jupyter-widgets/controls",
          "model_name": "DescriptionStyleModel",
          "model_module_version": "1.5.0",
          "state": {
            "_model_module": "@jupyter-widgets/controls",
            "_model_module_version": "1.5.0",
            "_model_name": "DescriptionStyleModel",
            "_view_count": null,
            "_view_module": "@jupyter-widgets/base",
            "_view_module_version": "1.2.0",
            "_view_name": "StyleView",
            "description_width": ""
          }
        },
        "e73bdd44dfb647ddb5c688ec782a38f7": {
          "model_module": "@jupyter-widgets/base",
          "model_name": "LayoutModel",
          "model_module_version": "1.2.0",
          "state": {
            "_model_module": "@jupyter-widgets/base",
            "_model_module_version": "1.2.0",
            "_model_name": "LayoutModel",
            "_view_count": null,
            "_view_module": "@jupyter-widgets/base",
            "_view_module_version": "1.2.0",
            "_view_name": "LayoutView",
            "align_content": null,
            "align_items": null,
            "align_self": null,
            "border": null,
            "bottom": null,
            "display": null,
            "flex": null,
            "flex_flow": null,
            "grid_area": null,
            "grid_auto_columns": null,
            "grid_auto_flow": null,
            "grid_auto_rows": null,
            "grid_column": null,
            "grid_gap": null,
            "grid_row": null,
            "grid_template_areas": null,
            "grid_template_columns": null,
            "grid_template_rows": null,
            "height": null,
            "justify_content": null,
            "justify_items": null,
            "left": null,
            "margin": null,
            "max_height": null,
            "max_width": null,
            "min_height": null,
            "min_width": null,
            "object_fit": null,
            "object_position": null,
            "order": null,
            "overflow": null,
            "overflow_x": null,
            "overflow_y": null,
            "padding": null,
            "right": null,
            "top": null,
            "visibility": null,
            "width": null
          }
        },
        "5925cb501ca74efb990a7fbc76ff35c6": {
          "model_module": "@jupyter-widgets/controls",
          "model_name": "ProgressStyleModel",
          "model_module_version": "1.5.0",
          "state": {
            "_model_module": "@jupyter-widgets/controls",
            "_model_module_version": "1.5.0",
            "_model_name": "ProgressStyleModel",
            "_view_count": null,
            "_view_module": "@jupyter-widgets/base",
            "_view_module_version": "1.2.0",
            "_view_name": "StyleView",
            "bar_color": null,
            "description_width": ""
          }
        },
        "1252fc2577bb4b7591be9f9b45437c9c": {
          "model_module": "@jupyter-widgets/base",
          "model_name": "LayoutModel",
          "model_module_version": "1.2.0",
          "state": {
            "_model_module": "@jupyter-widgets/base",
            "_model_module_version": "1.2.0",
            "_model_name": "LayoutModel",
            "_view_count": null,
            "_view_module": "@jupyter-widgets/base",
            "_view_module_version": "1.2.0",
            "_view_name": "LayoutView",
            "align_content": null,
            "align_items": null,
            "align_self": null,
            "border": null,
            "bottom": null,
            "display": null,
            "flex": null,
            "flex_flow": null,
            "grid_area": null,
            "grid_auto_columns": null,
            "grid_auto_flow": null,
            "grid_auto_rows": null,
            "grid_column": null,
            "grid_gap": null,
            "grid_row": null,
            "grid_template_areas": null,
            "grid_template_columns": null,
            "grid_template_rows": null,
            "height": null,
            "justify_content": null,
            "justify_items": null,
            "left": null,
            "margin": null,
            "max_height": null,
            "max_width": null,
            "min_height": null,
            "min_width": null,
            "object_fit": null,
            "object_position": null,
            "order": null,
            "overflow": null,
            "overflow_x": null,
            "overflow_y": null,
            "padding": null,
            "right": null,
            "top": null,
            "visibility": null,
            "width": null
          }
        },
        "2a931415f91342ac91a7b13b14876aac": {
          "model_module": "@jupyter-widgets/controls",
          "model_name": "DescriptionStyleModel",
          "model_module_version": "1.5.0",
          "state": {
            "_model_module": "@jupyter-widgets/controls",
            "_model_module_version": "1.5.0",
            "_model_name": "DescriptionStyleModel",
            "_view_count": null,
            "_view_module": "@jupyter-widgets/base",
            "_view_module_version": "1.2.0",
            "_view_name": "StyleView",
            "description_width": ""
          }
        },
        "16186b7138684d73b1e22d562e667aa9": {
          "model_module": "@jupyter-widgets/controls",
          "model_name": "HBoxModel",
          "model_module_version": "1.5.0",
          "state": {
            "_dom_classes": [],
            "_model_module": "@jupyter-widgets/controls",
            "_model_module_version": "1.5.0",
            "_model_name": "HBoxModel",
            "_view_count": null,
            "_view_module": "@jupyter-widgets/controls",
            "_view_module_version": "1.5.0",
            "_view_name": "HBoxView",
            "box_style": "",
            "children": [
              "IPY_MODEL_8f39956da3e9452388f39ef88da46c76",
              "IPY_MODEL_06141c7dfb414d15ab3c0b92ed64d58a",
              "IPY_MODEL_2a75694cfd634d21b7db8934b6bdabd2"
            ],
            "layout": "IPY_MODEL_b6b649b332254ca3a0ea51eaff7fd87d"
          }
        },
        "8f39956da3e9452388f39ef88da46c76": {
          "model_module": "@jupyter-widgets/controls",
          "model_name": "HTMLModel",
          "model_module_version": "1.5.0",
          "state": {
            "_dom_classes": [],
            "_model_module": "@jupyter-widgets/controls",
            "_model_module_version": "1.5.0",
            "_model_name": "HTMLModel",
            "_view_count": null,
            "_view_module": "@jupyter-widgets/controls",
            "_view_module_version": "1.5.0",
            "_view_name": "HTMLView",
            "description": "",
            "description_tooltip": null,
            "layout": "IPY_MODEL_d714d34967794334b38799d751869727",
            "placeholder": "​",
            "style": "IPY_MODEL_d7d06423476241f3968f372aacbfdbfc",
            "value": "model_optimized.onnx: 100%"
          }
        },
        "06141c7dfb414d15ab3c0b92ed64d58a": {
          "model_module": "@jupyter-widgets/controls",
          "model_name": "FloatProgressModel",
          "model_module_version": "1.5.0",
          "state": {
            "_dom_classes": [],
            "_model_module": "@jupyter-widgets/controls",
            "_model_module_version": "1.5.0",
            "_model_name": "FloatProgressModel",
            "_view_count": null,
            "_view_module": "@jupyter-widgets/controls",
            "_view_module_version": "1.5.0",
            "_view_name": "ProgressView",
            "bar_style": "success",
            "description": "",
            "description_tooltip": null,
            "layout": "IPY_MODEL_ad4a598cb1db4b58847e5a638b6831a5",
            "max": 217824172,
            "min": 0,
            "orientation": "horizontal",
            "style": "IPY_MODEL_6b6d6bba05cf4267bbee154ee2c616d5",
            "value": 217824172
          }
        },
        "2a75694cfd634d21b7db8934b6bdabd2": {
          "model_module": "@jupyter-widgets/controls",
          "model_name": "HTMLModel",
          "model_module_version": "1.5.0",
          "state": {
            "_dom_classes": [],
            "_model_module": "@jupyter-widgets/controls",
            "_model_module_version": "1.5.0",
            "_model_name": "HTMLModel",
            "_view_count": null,
            "_view_module": "@jupyter-widgets/controls",
            "_view_module_version": "1.5.0",
            "_view_name": "HTMLView",
            "description": "",
            "description_tooltip": null,
            "layout": "IPY_MODEL_ca528ecc600a4870b8ecfedc2f9aab5a",
            "placeholder": "​",
            "style": "IPY_MODEL_ad35ead7f8214d4c86461e29e093ed3c",
            "value": " 218M/218M [00:01&lt;00:00, 137MB/s]"
          }
        },
        "b6b649b332254ca3a0ea51eaff7fd87d": {
          "model_module": "@jupyter-widgets/base",
          "model_name": "LayoutModel",
          "model_module_version": "1.2.0",
          "state": {
            "_model_module": "@jupyter-widgets/base",
            "_model_module_version": "1.2.0",
            "_model_name": "LayoutModel",
            "_view_count": null,
            "_view_module": "@jupyter-widgets/base",
            "_view_module_version": "1.2.0",
            "_view_name": "LayoutView",
            "align_content": null,
            "align_items": null,
            "align_self": null,
            "border": null,
            "bottom": null,
            "display": null,
            "flex": null,
            "flex_flow": null,
            "grid_area": null,
            "grid_auto_columns": null,
            "grid_auto_flow": null,
            "grid_auto_rows": null,
            "grid_column": null,
            "grid_gap": null,
            "grid_row": null,
            "grid_template_areas": null,
            "grid_template_columns": null,
            "grid_template_rows": null,
            "height": null,
            "justify_content": null,
            "justify_items": null,
            "left": null,
            "margin": null,
            "max_height": null,
            "max_width": null,
            "min_height": null,
            "min_width": null,
            "object_fit": null,
            "object_position": null,
            "order": null,
            "overflow": null,
            "overflow_x": null,
            "overflow_y": null,
            "padding": null,
            "right": null,
            "top": null,
            "visibility": null,
            "width": null
          }
        },
        "d714d34967794334b38799d751869727": {
          "model_module": "@jupyter-widgets/base",
          "model_name": "LayoutModel",
          "model_module_version": "1.2.0",
          "state": {
            "_model_module": "@jupyter-widgets/base",
            "_model_module_version": "1.2.0",
            "_model_name": "LayoutModel",
            "_view_count": null,
            "_view_module": "@jupyter-widgets/base",
            "_view_module_version": "1.2.0",
            "_view_name": "LayoutView",
            "align_content": null,
            "align_items": null,
            "align_self": null,
            "border": null,
            "bottom": null,
            "display": null,
            "flex": null,
            "flex_flow": null,
            "grid_area": null,
            "grid_auto_columns": null,
            "grid_auto_flow": null,
            "grid_auto_rows": null,
            "grid_column": null,
            "grid_gap": null,
            "grid_row": null,
            "grid_template_areas": null,
            "grid_template_columns": null,
            "grid_template_rows": null,
            "height": null,
            "justify_content": null,
            "justify_items": null,
            "left": null,
            "margin": null,
            "max_height": null,
            "max_width": null,
            "min_height": null,
            "min_width": null,
            "object_fit": null,
            "object_position": null,
            "order": null,
            "overflow": null,
            "overflow_x": null,
            "overflow_y": null,
            "padding": null,
            "right": null,
            "top": null,
            "visibility": null,
            "width": null
          }
        },
        "d7d06423476241f3968f372aacbfdbfc": {
          "model_module": "@jupyter-widgets/controls",
          "model_name": "DescriptionStyleModel",
          "model_module_version": "1.5.0",
          "state": {
            "_model_module": "@jupyter-widgets/controls",
            "_model_module_version": "1.5.0",
            "_model_name": "DescriptionStyleModel",
            "_view_count": null,
            "_view_module": "@jupyter-widgets/base",
            "_view_module_version": "1.2.0",
            "_view_name": "StyleView",
            "description_width": ""
          }
        },
        "ad4a598cb1db4b58847e5a638b6831a5": {
          "model_module": "@jupyter-widgets/base",
          "model_name": "LayoutModel",
          "model_module_version": "1.2.0",
          "state": {
            "_model_module": "@jupyter-widgets/base",
            "_model_module_version": "1.2.0",
            "_model_name": "LayoutModel",
            "_view_count": null,
            "_view_module": "@jupyter-widgets/base",
            "_view_module_version": "1.2.0",
            "_view_name": "LayoutView",
            "align_content": null,
            "align_items": null,
            "align_self": null,
            "border": null,
            "bottom": null,
            "display": null,
            "flex": null,
            "flex_flow": null,
            "grid_area": null,
            "grid_auto_columns": null,
            "grid_auto_flow": null,
            "grid_auto_rows": null,
            "grid_column": null,
            "grid_gap": null,
            "grid_row": null,
            "grid_template_areas": null,
            "grid_template_columns": null,
            "grid_template_rows": null,
            "height": null,
            "justify_content": null,
            "justify_items": null,
            "left": null,
            "margin": null,
            "max_height": null,
            "max_width": null,
            "min_height": null,
            "min_width": null,
            "object_fit": null,
            "object_position": null,
            "order": null,
            "overflow": null,
            "overflow_x": null,
            "overflow_y": null,
            "padding": null,
            "right": null,
            "top": null,
            "visibility": null,
            "width": null
          }
        },
        "6b6d6bba05cf4267bbee154ee2c616d5": {
          "model_module": "@jupyter-widgets/controls",
          "model_name": "ProgressStyleModel",
          "model_module_version": "1.5.0",
          "state": {
            "_model_module": "@jupyter-widgets/controls",
            "_model_module_version": "1.5.0",
            "_model_name": "ProgressStyleModel",
            "_view_count": null,
            "_view_module": "@jupyter-widgets/base",
            "_view_module_version": "1.2.0",
            "_view_name": "StyleView",
            "bar_color": null,
            "description_width": ""
          }
        },
        "ca528ecc600a4870b8ecfedc2f9aab5a": {
          "model_module": "@jupyter-widgets/base",
          "model_name": "LayoutModel",
          "model_module_version": "1.2.0",
          "state": {
            "_model_module": "@jupyter-widgets/base",
            "_model_module_version": "1.2.0",
            "_model_name": "LayoutModel",
            "_view_count": null,
            "_view_module": "@jupyter-widgets/base",
            "_view_module_version": "1.2.0",
            "_view_name": "LayoutView",
            "align_content": null,
            "align_items": null,
            "align_self": null,
            "border": null,
            "bottom": null,
            "display": null,
            "flex": null,
            "flex_flow": null,
            "grid_area": null,
            "grid_auto_columns": null,
            "grid_auto_flow": null,
            "grid_auto_rows": null,
            "grid_column": null,
            "grid_gap": null,
            "grid_row": null,
            "grid_template_areas": null,
            "grid_template_columns": null,
            "grid_template_rows": null,
            "height": null,
            "justify_content": null,
            "justify_items": null,
            "left": null,
            "margin": null,
            "max_height": null,
            "max_width": null,
            "min_height": null,
            "min_width": null,
            "object_fit": null,
            "object_position": null,
            "order": null,
            "overflow": null,
            "overflow_x": null,
            "overflow_y": null,
            "padding": null,
            "right": null,
            "top": null,
            "visibility": null,
            "width": null
          }
        },
        "ad35ead7f8214d4c86461e29e093ed3c": {
          "model_module": "@jupyter-widgets/controls",
          "model_name": "DescriptionStyleModel",
          "model_module_version": "1.5.0",
          "state": {
            "_model_module": "@jupyter-widgets/controls",
            "_model_module_version": "1.5.0",
            "_model_name": "DescriptionStyleModel",
            "_view_count": null,
            "_view_module": "@jupyter-widgets/base",
            "_view_module_version": "1.2.0",
            "_view_name": "StyleView",
            "description_width": ""
          }
        }
      }
    }
  },
  "cells": [
    {
      "cell_type": "code",
      "execution_count": 2,
      "metadata": {
        "id": "Xxu40te4grqZ"
      },
      "outputs": [],
      "source": [
        "!pip -qqq install pip --progress-bar off\n",
        "!pip -qqq install langchain-groq==0.1.3 --progress-bar off\n",
        "!pip -qqq install langchain==0.1.17 --progress-bar off\n",
        "!pip -qqq install llama-parse==0.1.3 --progress-bar off\n",
        "!pip -qqq install qdrant-client==1.9.1  --progress-bar off\n",
        "!pip -qqq install \"unstructured[md]\"==0.13.6 --progress-bar off\n",
        "!pip -qqq install fastembed==0.2.7 --progress-bar off\n",
        "!pip -qqq install flashrank==0.2.4 --progress-bar off"
      ]
    },
    {
      "cell_type": "code",
      "source": [
        "\n",
        "import os\n",
        "import textwrap\n",
        "from pathlib import Path\n",
        "\n",
        "from google.colab import userdata\n",
        "from IPython.display import Markdown\n",
        "from langchain.chains import RetrievalQA\n",
        "from langchain.prompts import PromptTemplate\n",
        "from langchain.retrievers import ContextualCompressionRetriever\n",
        "from langchain.retrievers.document_compressors import FlashrankRerank\n",
        "from langchain.text_splitter import RecursiveCharacterTextSplitter\n",
        "from langchain.vectorstores import Qdrant\n",
        "from langchain_community.document_loaders import UnstructuredMarkdownLoader\n",
        "from langchain_community.embeddings.fastembed import FastEmbedEmbeddings\n",
        "from langchain_core.prompts import ChatPromptTemplate\n",
        "from langchain_groq import ChatGroq\n",
        "from llama_parse import LlamaParse\n",
        "\n",
        "os.environ[\"GROQ_API_KEY\"] = userdata.get(\"GROQ_API_KEY\")\n",
        "\n",
        "\n",
        "def print_response(response):\n",
        "    response_txt = response[\"result\"]\n",
        "    for chunk in response_txt.split(\"\\n\"):\n",
        "        if not chunk:\n",
        "            print()\n",
        "            continue\n",
        "        print(\"\\n\".join(textwrap.wrap(chunk, 100, break_long_words=False)))\n",
        "\n"
      ],
      "metadata": {
        "id": "ZmlqcT3T4Bgg"
      },
      "execution_count": 4,
      "outputs": []
    },
    {
      "cell_type": "code",
      "source": [
        "!mkdir data\n",
        "!gdown 1HIkSzCqGB82ggcibMgHN-xOx689o558h -O \"data/school-data.pdf\""
      ],
      "metadata": {
        "id": "X9PcUFjU4Rp2",
        "colab": {
          "base_uri": "https://localhost:8080/"
        },
        "outputId": "0235a68f-4139-4489-d8a5-b13a752b43dd"
      },
      "execution_count": 6,
      "outputs": [
        {
          "output_type": "stream",
          "name": "stdout",
          "text": [
            "mkdir: cannot create directory ‘data’: File exists\n",
            "Downloading...\n",
            "From: https://drive.google.com/uc?id=1HIkSzCqGB82ggcibMgHN-xOx689o558h\n",
            "To: /content/data/school-data.pdf\n",
            "100% 722k/722k [00:00<00:00, 118MB/s]\n"
          ]
        }
      ]
    },
    {
      "cell_type": "markdown",
      "source": [
        "**Document Parsing**"
      ],
      "metadata": {
        "id": "amXLDmab4zm0"
      }
    },
    {
      "cell_type": "code",
      "source": [
        "\n",
        "instruction = \"\"\"The provided document is Contains information about a university in nigeria called Madonna University.\n",
        "This form provide detailed information about the school and relavant information a student will need to know about the school.\n",
        "it is structure data, it contains some links and some not properly format text contain but the information are correct.\n",
        "Try to be precise while answering the questions\"\"\"\n",
        "\n",
        "parser = LlamaParse(\n",
        "    api_key=userdata.get(\"LLAMA_PARSE\"),\n",
        "    result_type=\"markdown\",\n",
        "    parsing_instruction=instruction,\n",
        "    max_timeout=5000,\n",
        ")\n",
        "\n",
        "llama_parse_documents = await parser.aload_data(\"./data/school-data.pdf\")"
      ],
      "metadata": {
        "id": "EKlEeVse4WMt",
        "colab": {
          "base_uri": "https://localhost:8080/"
        },
        "outputId": "06a4b6d4-3ce4-46cd-e795-4c60a55e67c5"
      },
      "execution_count": 8,
      "outputs": [
        {
          "output_type": "stream",
          "name": "stdout",
          "text": [
            "Started parsing the file under job_id d6191416-eee1-4799-bee1-e4d6822a9e98\n"
          ]
        }
      ]
    },
    {
      "cell_type": "code",
      "source": [
        "\n",
        "parsed_doc = llama_parse_documents[0]"
      ],
      "metadata": {
        "id": "GJ1Ja2an4ZOp"
      },
      "execution_count": 9,
      "outputs": []
    },
    {
      "cell_type": "code",
      "source": [
        "Markdown(parsed_doc.text[:4096])"
      ],
      "metadata": {
        "id": "R5UHVb5B4brj",
        "colab": {
          "base_uri": "https://localhost:8080/",
          "height": 1000
        },
        "outputId": "ff002ebf-a399-4c7d-eebe-1a11832cccea"
      },
      "execution_count": 10,
      "outputs": [
        {
          "output_type": "execute_result",
          "data": {
            "text/plain": [
              "<IPython.core.display.Markdown object>"
            ],
            "text/markdown": "# Admission\n\nApply To Madonna University, Nigeria\n\n# Admission Requirements\n\nApplicants are expected to have five (5) O’ Level Credit Passes, including English Language and Mathematics, in not more than two sittings, and three (3) other subjects relevant to the course of study.\n\nMadonna University enjoys both NUC and Relevant Boards/Council Accreditation in all her academic programmes.\n\nMadonna University operates under a stable academic curriculum with no disruption of academic exercise through strikes.\n\nMadonna University provides 100% excellent boarding facilities for all students and unhindered campus-wide internet access.\n\nMadonna University provides Free Body Building/Weight Training/Fitness Programmes for students and unhindered campus-wide internet access.\n\n# GUIDELINES FOR ONLINE ADMISSION PROCEDURES INTO MADONNA UNIVERSITY, NIGERIA\n\n1. Scan your credentials—passport, birp certificate, O-level and JAMB results and save pe scanned credentials on a device.\n2. Open a web browser, e.g. Chrome, Opera-mini, Mozilla Firefox, Internet-explorer and type in www.madonnauniversity.edu.ng into pe search bar and click on “apply now.”\n3. Complete pe application form (fill correctly using Upper Case all prough, except for your email). Please do not fill in pe space for a maiden name if you are a male or if you are currently single.\n4. After filling and successfully submitting your form, upload your scanned credentials as indicated on pe page by clicking on “browse.” Once you’re done click submit.\n5. After successfully submitting your form, copy or print your application number (for example, 2021/2022/app/00012) and access code. The application number is what you will use to make any payment at pe bank, pending when you’re fully admitted into pe school.\n6. Your login access code is your ‘surname,’ and you have to type it pe way you typed it during your portal registration each time you want to log in.\n---\nApplicants are to pay the sum of ₦6,000 (six thousand Naira only) at Mayfresh Mortgage Bank for medical test, and then proceed with their original credentials for oral interview at the ADMISSIONS OFFICE of any of the Madonna University campuses: (Elele, Okija or Akpugo).\n\nIf interview is successful, then proceed to pay your school fees at any branch of Mayfresh Mortgage Bank nearest to you.\n\n# Things To Know First\n\nFive (5) O’ Level Credit Level Passes at not more than two sittings to include English Language and Mathematics and three (3) other subjects relevant to course of study.\n\n- All prospective undergraduates who scored up to 140 in the most recent JAMB UTME are qualified to apply including those who did not choose Madonna as first choice.\n- The above cut-off mark applies to all other courses except Law (200), Medicine (200), Pharmacy (200), Nursing (200) and Medical Laboratory Science (160).\n- Candidates awaiting SSCE result or its equivalent are also eligible to apply for admission provided the result will be available on resumption. Form is available online for Applicants. Open this link, fill and submit the form online.\n- Screening and Admission forms are FREE\n- All intending Candidates must undergo medical examination in Madonna University Medical Centres on payment of necessary medical fees.\n\n# Request information\n\nMODE OF PAYMENT\n\nNOTE: For the payment of school fees, the depositor’s name MUST be the student’s name/Registration number. Please do not transfer if your ward’s name/registration number cannot be included in the narration to avoid challenges in confirmation and collection of receipt.\n\nMODE OF PAYMENT\n1. May fresh Mortgage Bank LTD\n2. OHHA Microfinance Bank\n3. Commercial Bank\n\ni. ELELE CAMPUS: ACCOUNT NAME: MAYFRESH MORTGAGE BANK\n\nACCOUNT NUMBER: 1019208827\n\nBANK: UBA\n---\nii. OKIJA CAMPUS:\n\n|ACCOUNT NAME:|MAYFRESH MORTGAGE BANK|\n|---|---|\n|ACCOUNT NUMBER:|2013702605|\n|BANK:|FIRST BANK|\n\niii. AKPUGO CAMPUS:\n\n|ACCOUNT NAME:|MAYFRESH SAVINGS & LOAN|\n|---|---|\n|ACCOUNT NUMBER:|1015688731|\n|BANK:|UBA|\n\nPAYMENT THROUGH THE COMMERCIAL BANK:\n\n- After payment at the Commercial bank, click on Mayfresh Mortgage Bank"
          },
          "metadata": {},
          "execution_count": 10
        }
      ]
    },
    {
      "cell_type": "code",
      "source": [
        "\n",
        "document_path = Path(\"data/parsed_document.md\")\n",
        "with document_path.open(\"a\") as f:\n",
        "    f.write(parsed_doc.text)"
      ],
      "metadata": {
        "id": "n869SHz74gGg"
      },
      "execution_count": 12,
      "outputs": []
    },
    {
      "cell_type": "markdown",
      "source": [
        "**Vector Embeddings**\n"
      ],
      "metadata": {
        "id": "sFx3q9Ou4ott"
      }
    },
    {
      "cell_type": "code",
      "source": [
        "\n",
        "loader = UnstructuredMarkdownLoader(document_path)\n",
        "loaded_documents = loader.load()"
      ],
      "metadata": {
        "id": "zRDK0lTY4hRJ",
        "colab": {
          "base_uri": "https://localhost:8080/"
        },
        "outputId": "8aa31fea-75e7-4c9f-ce6f-6ffb923cbb4c"
      },
      "execution_count": 13,
      "outputs": [
        {
          "output_type": "stream",
          "name": "stderr",
          "text": [
            "[nltk_data] Downloading package averaged_perceptron_tagger to\n",
            "[nltk_data]     /root/nltk_data...\n",
            "[nltk_data]   Unzipping taggers/averaged_perceptron_tagger.zip.\n"
          ]
        }
      ]
    },
    {
      "cell_type": "code",
      "source": [
        "text_splitter = RecursiveCharacterTextSplitter(chunk_size=2048, chunk_overlap=128)\n",
        "docs = text_splitter.split_documents(loaded_documents)\n",
        "len(docs)"
      ],
      "metadata": {
        "id": "O6LsgYDi47ny",
        "colab": {
          "base_uri": "https://localhost:8080/"
        },
        "outputId": "0c5c7a6b-ecae-4d5f-a7bd-9029e9e5ea99"
      },
      "execution_count": 14,
      "outputs": [
        {
          "output_type": "execute_result",
          "data": {
            "text/plain": [
              "47"
            ]
          },
          "metadata": {},
          "execution_count": 14
        }
      ]
    },
    {
      "cell_type": "code",
      "source": [
        "\n",
        "print(docs[0].page_content)"
      ],
      "metadata": {
        "id": "cTC_e6Rn48rG",
        "colab": {
          "base_uri": "https://localhost:8080/"
        },
        "outputId": "92a2ac8c-4e2d-4d34-eb29-1d1d6f1b5929"
      },
      "execution_count": 15,
      "outputs": [
        {
          "output_type": "stream",
          "name": "stdout",
          "text": [
            "Admission\n",
            "\n",
            "Apply To Madonna University, Nigeria\n",
            "\n",
            "Admission Requirements\n",
            "\n",
            "Applicants are expected to have five (5) O’ Level Credit Passes, including English Language and Mathematics, in not more than two sittings, and three (3) other subjects relevant to the course of study.\n",
            "\n",
            "Madonna University enjoys both NUC and Relevant Boards/Council Accreditation in all her academic programmes.\n",
            "\n",
            "Madonna University operates under a stable academic curriculum with no disruption of academic exercise through strikes.\n",
            "\n",
            "Madonna University provides 100% excellent boarding facilities for all students and unhindered campus-wide internet access.\n",
            "\n",
            "Madonna University provides Free Body Building/Weight Training/Fitness Programmes for students and unhindered campus-wide internet access.\n",
            "\n",
            "GUIDELINES FOR ONLINE ADMISSION PROCEDURES INTO MADONNA UNIVERSITY, NIGERIA\n",
            "\n",
            "Scan your credentials—passport, birp certificate, O-level and JAMB results and save pe scanned credentials on a device.\n",
            "\n",
            "Open a web browser, e.g. Chrome, Opera-mini, Mozilla Firefox, Internet-explorer and type in www.madonnauniversity.edu.ng into pe search bar and click on “apply now.”\n",
            "\n",
            "Complete pe application form (fill correctly using Upper Case all prough, except for your email). Please do not fill in pe space for a maiden name if you are a male or if you are currently single.\n",
            "\n",
            "After filling and successfully submitting your form, upload your scanned credentials as indicated on pe page by clicking on “browse.” Once you’re done click submit.\n",
            "\n",
            "After successfully submitting your form, copy or print your application number (for example, 2021/2022/app/00012) and access code. The application number is what you will use to make any payment at pe bank, pending when you’re fully admitted into pe school.\n",
            "\n",
            "Your login access code is your ‘surname,’ and you have to type it pe way you typed it during your portal registration each time you want to log in.\n"
          ]
        }
      ]
    },
    {
      "cell_type": "code",
      "source": [
        "embeddings = FastEmbedEmbeddings(model_name=\"BAAI/bge-base-en-v1.5\")"
      ],
      "metadata": {
        "id": "sSxt2u1-4-rf",
        "colab": {
          "base_uri": "https://localhost:8080/",
          "height": 338,
          "referenced_widgets": [
            "b39bb8ca68a64b17ba31b5e3717fd38e",
            "d06de1d4d8d047f3920bc579f06010fd",
            "fe6e5d7787cf4e04b8f560a8933f1e4f",
            "46c62ed7d8474df090687812cd04e5d9",
            "a5583c685c504317bb6031ac0b1939b8",
            "0e7c234367824702bd395a56103bf7fe",
            "da9296770367459e86b3ae89649da915",
            "3d52347cc40445239f6860f42eae9436",
            "1a255e74a7834141baefb783aaa918ba",
            "b8aba61798384e21887040ceef863247",
            "8f794f53d49c4c6baa9d13b800839713",
            "fe3319d5ed75412e9b291f92d09484e8",
            "259b56168b974e2d9cb0506143c5f862",
            "550d0b937a5b4ef590bd25ddaa6c47ca",
            "2661204800ae43a5a1e3301db7ae847c",
            "768a7eec94c14b69ace471e5029b4e02",
            "8ffd7ca2d22b4410ac6a7d558d1a979d",
            "6c369662c0bf4beaa881b9f9f838e9b4",
            "cc1c9a4beaec45d5948cb41fcf647e7e",
            "000255dc634748888161c8023c6813cc",
            "bb41b8869b4746d4af731a8f5c88ba1f",
            "04897113965648818ddb53e2e78259d0",
            "52d039fb2a8f43c38fe55288298ea100",
            "9bb409fe694c40e9a0fdb078ad79d0e6",
            "9312fb26a97d4ef89f16cf94909312cc",
            "b0135f2c405042609b21cf302e067883",
            "3863612c22fe44d7a7558d31edc54b20",
            "14ce3c8f573643ad98a81f1b2c194728",
            "2fe18e03c75b40d8a5859e250438f194",
            "9d8d5bed429a4c48bcd7ee5f4dbe9d6d",
            "6819d121fdfe4a54aa7f297d833058f5",
            "91201961ab6d457bba8b4ab2226dfe62",
            "429c5ee283254dd8a745976ec362d299",
            "69a317e20bde42a3b912df2c8e77d1c6",
            "3ce071354860453d8d89a516bc1763f5",
            "78d819b647dc484493d83727646e6659",
            "b99ab822bbb746fdae0fa63db7fdefba",
            "7b77734d25404fc6a2b28c1c8da03cfa",
            "6336411d415249f8a0ed5c786de3cfa8",
            "053abbae9cae4b31a82be8c97f2397d5",
            "eed25ed00854474cadb2647ab33b4dff",
            "e9882fb9db624eebaf1ab3bc1f584b7a",
            "b0b17d7e3e6b4f0d897f8bba3b9ecdc3",
            "c30546bf185b4ae6aa0b950450a3527f",
            "f6bbf170a1dc42d4906675f5dd1d1129",
            "7a2ce4abbf2a4eefa1553581bc3af325",
            "11729e8b9c5749cfa96440ea30b60801",
            "596220a430ee40cb8eb3ecca128eca4b",
            "76a4101b62e24a47aa56bf9749e53a07",
            "c186a377c9d5465792215b09ffa68d90",
            "82bea686073d49e48b8cb0d26a77f882",
            "e73bdd44dfb647ddb5c688ec782a38f7",
            "5925cb501ca74efb990a7fbc76ff35c6",
            "1252fc2577bb4b7591be9f9b45437c9c",
            "2a931415f91342ac91a7b13b14876aac",
            "16186b7138684d73b1e22d562e667aa9",
            "8f39956da3e9452388f39ef88da46c76",
            "06141c7dfb414d15ab3c0b92ed64d58a",
            "2a75694cfd634d21b7db8934b6bdabd2",
            "b6b649b332254ca3a0ea51eaff7fd87d",
            "d714d34967794334b38799d751869727",
            "d7d06423476241f3968f372aacbfdbfc",
            "ad4a598cb1db4b58847e5a638b6831a5",
            "6b6d6bba05cf4267bbee154ee2c616d5",
            "ca528ecc600a4870b8ecfedc2f9aab5a",
            "ad35ead7f8214d4c86461e29e093ed3c"
          ]
        },
        "outputId": "eadcd0bf-153e-44db-8d12-58a0e02f3223"
      },
      "execution_count": 16,
      "outputs": [
        {
          "output_type": "stream",
          "name": "stderr",
          "text": [
            "/usr/local/lib/python3.10/dist-packages/huggingface_hub/utils/_token.py:88: UserWarning: \n",
            "The secret `HF_TOKEN` does not exist in your Colab secrets.\n",
            "To authenticate with the Hugging Face Hub, create a token in your settings tab (https://huggingface.co/settings/tokens), set it as secret in your Google Colab and restart your session.\n",
            "You will be able to reuse this secret in all of your notebooks.\n",
            "Please note that authentication is recommended but still optional to access public models or datasets.\n",
            "  warnings.warn(\n"
          ]
        },
        {
          "output_type": "display_data",
          "data": {
            "text/plain": [
              "Fetching 5 files:   0%|          | 0/5 [00:00<?, ?it/s]"
            ],
            "application/vnd.jupyter.widget-view+json": {
              "version_major": 2,
              "version_minor": 0,
              "model_id": "b39bb8ca68a64b17ba31b5e3717fd38e"
            }
          },
          "metadata": {}
        },
        {
          "output_type": "display_data",
          "data": {
            "text/plain": [
              "special_tokens_map.json:   0%|          | 0.00/695 [00:00<?, ?B/s]"
            ],
            "application/vnd.jupyter.widget-view+json": {
              "version_major": 2,
              "version_minor": 0,
              "model_id": "fe3319d5ed75412e9b291f92d09484e8"
            }
          },
          "metadata": {}
        },
        {
          "output_type": "display_data",
          "data": {
            "text/plain": [
              "tokenizer.json:   0%|          | 0.00/711k [00:00<?, ?B/s]"
            ],
            "application/vnd.jupyter.widget-view+json": {
              "version_major": 2,
              "version_minor": 0,
              "model_id": "52d039fb2a8f43c38fe55288298ea100"
            }
          },
          "metadata": {}
        },
        {
          "output_type": "display_data",
          "data": {
            "text/plain": [
              "config.json:   0%|          | 0.00/740 [00:00<?, ?B/s]"
            ],
            "application/vnd.jupyter.widget-view+json": {
              "version_major": 2,
              "version_minor": 0,
              "model_id": "69a317e20bde42a3b912df2c8e77d1c6"
            }
          },
          "metadata": {}
        },
        {
          "output_type": "display_data",
          "data": {
            "text/plain": [
              "tokenizer_config.json:   0%|          | 0.00/1.24k [00:00<?, ?B/s]"
            ],
            "application/vnd.jupyter.widget-view+json": {
              "version_major": 2,
              "version_minor": 0,
              "model_id": "f6bbf170a1dc42d4906675f5dd1d1129"
            }
          },
          "metadata": {}
        },
        {
          "output_type": "display_data",
          "data": {
            "text/plain": [
              "model_optimized.onnx:   0%|          | 0.00/218M [00:00<?, ?B/s]"
            ],
            "application/vnd.jupyter.widget-view+json": {
              "version_major": 2,
              "version_minor": 0,
              "model_id": "16186b7138684d73b1e22d562e667aa9"
            }
          },
          "metadata": {}
        }
      ]
    },
    {
      "cell_type": "code",
      "source": [
        "qdrant = Qdrant.from_documents(\n",
        "    docs,\n",
        "    embeddings,\n",
        "    # location=\":memory:\",\n",
        "    path=\"./db\",\n",
        "    collection_name=\"document_embeddings\",\n",
        ")"
      ],
      "metadata": {
        "id": "Z3PM3r065C6q"
      },
      "execution_count": null,
      "outputs": []
    },
    {
      "cell_type": "code",
      "source": [
        "\n",
        "%%time\n",
        "query = \"When was madonna university founded?\"\n",
        "similar_docs = qdrant.similarity_search_with_score(query)"
      ],
      "metadata": {
        "id": "quoFo_d85F3n",
        "colab": {
          "base_uri": "https://localhost:8080/"
        },
        "outputId": "3e813c5f-1854-415d-f27a-e5440963e727"
      },
      "execution_count": 21,
      "outputs": [
        {
          "output_type": "stream",
          "name": "stdout",
          "text": [
            "CPU times: user 362 ms, sys: 1.91 ms, total: 363 ms\n",
            "Wall time: 363 ms\n"
          ]
        }
      ]
    },
    {
      "cell_type": "code",
      "source": [
        "\n",
        "for doc, score in similar_docs:\n",
        "    print(f\"text: {doc.page_content[:256]}\\n\")\n",
        "    print(f\"score: {score}\")\n",
        "    print(\"-\" * 80)\n",
        "    print()"
      ],
      "metadata": {
        "id": "Oz2wLyVI5IXK",
        "colab": {
          "base_uri": "https://localhost:8080/"
        },
        "outputId": "a2162ad7-2b22-4da8-ca72-11f9667794fe"
      },
      "execution_count": 22,
      "outputs": [
        {
          "output_type": "stream",
          "name": "stdout",
          "text": [
            "text: Discover Madonna University, Nigeria - About Us\n",
            "\n",
            "Madonna's History\n",
            "\n",
            "Our story dates back to the late 90s, when Very Rev. Fr. Prof. E.M.P. Edeh CSSp, OFR, founded the prestigious Madonna University. By 1999, she had commenced active operation with the appro\n",
            "\n",
            "score: 0.7595845693627044\n",
            "--------------------------------------------------------------------------------\n",
            "\n",
            "text: Medicine & Surgery\n",
            "\n",
            "Pharmacy\n",
            "\n",
            "Biochemistry\n",
            "\n",
            "Computer Science\n",
            "\n",
            "Industrial Chemistry\n",
            "\n",
            "Microbiology\n",
            "\n",
            "Medical Laboratory Science\n",
            "\n",
            "Optometry\n",
            "\n",
            "Public Health\n",
            "\n",
            "Nursing Science\n",
            "\n",
            "Madonna University, Okija Campus, Anambra State\n",
            "\n",
            "Founded in 1999, as the first campus o\n",
            "\n",
            "score: 0.7423774143751911\n",
            "--------------------------------------------------------------------------------\n",
            "\n",
            "text: Medical Laboratory Science Department - Madonna University\n",
            "\n",
            "Medical Laboratory Science Department\n",
            "\n",
            "History\n",
            "\n",
            "The Department of Medical Laboratory Science of the Faculty of Health Sciences College of Health Sciences Madonna University was established in 2000\n",
            "\n",
            "score: 0.6853713666536742\n",
            "--------------------------------------------------------------------------------\n",
            "\n",
            "text: Nursing Department\n",
            "\n",
            "Brief History of the Department\n",
            "\n",
            "The department of nursing science, Faculty of Health Sciences, Madonna University, Elele was established in the year 2001 with the initial admission of 14 students in October 2001, with under the headshi\n",
            "\n",
            "score: 0.6742129210841463\n",
            "--------------------------------------------------------------------------------\n",
            "\n"
          ]
        }
      ]
    },
    {
      "cell_type": "code",
      "source": [
        "\n",
        "%%time\n",
        "retriever = qdrant.as_retriever(search_kwargs={\"k\": 5})\n",
        "retrieved_docs = retriever.invoke(query)"
      ],
      "metadata": {
        "id": "ePNdKj8a5LCc",
        "colab": {
          "base_uri": "https://localhost:8080/"
        },
        "outputId": "4d33f735-d7de-439f-ca66-bf3dfe7ff252"
      },
      "execution_count": 23,
      "outputs": [
        {
          "output_type": "stream",
          "name": "stdout",
          "text": [
            "CPU times: user 368 ms, sys: 1.53 ms, total: 369 ms\n",
            "Wall time: 377 ms\n"
          ]
        }
      ]
    },
    {
      "cell_type": "code",
      "source": [
        "for doc in retrieved_docs:\n",
        "    print(f\"id: {doc.metadata['_id']}\\n\")\n",
        "    print(f\"text: {doc.page_content[:256]}\\n\")\n",
        "    print(\"-\" * 80)\n",
        "    print()"
      ],
      "metadata": {
        "id": "FY-UYesy5QrR",
        "colab": {
          "base_uri": "https://localhost:8080/"
        },
        "outputId": "150ad14f-3fe1-4d69-a85c-53dec3f7a724"
      },
      "execution_count": 24,
      "outputs": [
        {
          "output_type": "stream",
          "name": "stdout",
          "text": [
            "id: 3a6489e40f774d598da39b3c085646ec\n",
            "\n",
            "text: Discover Madonna University, Nigeria - About Us\n",
            "\n",
            "Madonna's History\n",
            "\n",
            "Our story dates back to the late 90s, when Very Rev. Fr. Prof. E.M.P. Edeh CSSp, OFR, founded the prestigious Madonna University. By 1999, she had commenced active operation with the appro\n",
            "\n",
            "--------------------------------------------------------------------------------\n",
            "\n",
            "id: 1be110fb5f824870a21032688edd8c4c\n",
            "\n",
            "text: Medicine & Surgery\n",
            "\n",
            "Pharmacy\n",
            "\n",
            "Biochemistry\n",
            "\n",
            "Computer Science\n",
            "\n",
            "Industrial Chemistry\n",
            "\n",
            "Microbiology\n",
            "\n",
            "Medical Laboratory Science\n",
            "\n",
            "Optometry\n",
            "\n",
            "Public Health\n",
            "\n",
            "Nursing Science\n",
            "\n",
            "Madonna University, Okija Campus, Anambra State\n",
            "\n",
            "Founded in 1999, as the first campus o\n",
            "\n",
            "--------------------------------------------------------------------------------\n",
            "\n",
            "id: 1ced22dcc6d44bad8171ec6afea723e4\n",
            "\n",
            "text: Medical Laboratory Science Department - Madonna University\n",
            "\n",
            "Medical Laboratory Science Department\n",
            "\n",
            "History\n",
            "\n",
            "The Department of Medical Laboratory Science of the Faculty of Health Sciences College of Health Sciences Madonna University was established in 2000\n",
            "\n",
            "--------------------------------------------------------------------------------\n",
            "\n",
            "id: 2ebcf0a9ab0d4d3e8d33b0b49e6abdf4\n",
            "\n",
            "text: Nursing Department\n",
            "\n",
            "Brief History of the Department\n",
            "\n",
            "The department of nursing science, Faculty of Health Sciences, Madonna University, Elele was established in the year 2001 with the initial admission of 14 students in October 2001, with under the headshi\n",
            "\n",
            "--------------------------------------------------------------------------------\n",
            "\n",
            "id: d92ced65df604af4bac3a91969cc6a52\n",
            "\n",
            "text: Social Info\n",
            "\n",
            "Student Resources\n",
            "\n",
            "Directory\n",
            "\n",
            "Application\n",
            "\n",
            "GBADU CELESTINA CHIMYERE Lecturer II, Madonna University, Nigeria, Elele Campus\n",
            "\n",
            "More Detail\n",
            "\n",
            "MRS. FLORENCE UCHECHI MANDAH LECTURE 1, Madonna University, Nigeria, Elele Campus\n",
            "\n",
            "More Detail\n",
            "\n",
            "MARGIE D. \n",
            "\n",
            "--------------------------------------------------------------------------------\n",
            "\n"
          ]
        }
      ]
    },
    {
      "cell_type": "markdown",
      "source": [
        "**Reranking**"
      ],
      "metadata": {
        "id": "L7mO-KCw5VgI"
      }
    },
    {
      "cell_type": "code",
      "source": [
        "\n",
        "compressor = FlashrankRerank(model=\"ms-marco-MiniLM-L-12-v2\")\n",
        "compression_retriever = ContextualCompressionRetriever(\n",
        "    base_compressor=compressor, base_retriever=retriever\n",
        ")"
      ],
      "metadata": {
        "id": "LvPF-cfv5Xjb",
        "colab": {
          "base_uri": "https://localhost:8080/"
        },
        "outputId": "9e7bae44-32d6-43f7-fbc1-1d2bc0cdc0ea"
      },
      "execution_count": 25,
      "outputs": [
        {
          "output_type": "stream",
          "name": "stdout",
          "text": [
            "Downloading ms-marco-MiniLM-L-12-v2...\n"
          ]
        },
        {
          "output_type": "stream",
          "name": "stderr",
          "text": [
            "ms-marco-MiniLM-L-12-v2.zip: 100%|██████████| 21.6M/21.6M [00:00<00:00, 133MiB/s]\n"
          ]
        }
      ]
    },
    {
      "cell_type": "code",
      "source": [
        "\n",
        "%%time\n",
        "reranked_docs = compression_retriever.invoke(query)\n",
        "len(reranked_docs)"
      ],
      "metadata": {
        "id": "2T6ohXW85aNc",
        "colab": {
          "base_uri": "https://localhost:8080/"
        },
        "outputId": "fa48b353-3206-4315-bdf2-a80ab8fa818e"
      },
      "execution_count": 26,
      "outputs": [
        {
          "output_type": "stream",
          "name": "stdout",
          "text": [
            "Running pairwise ranking..\n",
            "CPU times: user 3.27 s, sys: 174 ms, total: 3.45 s\n",
            "Wall time: 3.53 s\n"
          ]
        },
        {
          "output_type": "execute_result",
          "data": {
            "text/plain": [
              "3"
            ]
          },
          "metadata": {},
          "execution_count": 26
        }
      ]
    },
    {
      "cell_type": "code",
      "source": [
        "\n",
        "for doc in reranked_docs:\n",
        "    print(f\"id: {doc.metadata['_id']}\\n\")\n",
        "    print(f\"text: {doc.page_content[:256]}\\n\")\n",
        "    print(f\"score: {doc.metadata['relevance_score']}\")\n",
        "    print(\"-\" * 80)\n",
        "    print()"
      ],
      "metadata": {
        "id": "iT4h9hgL5cb_",
        "colab": {
          "base_uri": "https://localhost:8080/"
        },
        "outputId": "d308cdc7-d1b5-47e6-875b-d777dba99d69"
      },
      "execution_count": 27,
      "outputs": [
        {
          "output_type": "stream",
          "name": "stdout",
          "text": [
            "id: 1be110fb5f824870a21032688edd8c4c\n",
            "\n",
            "text: Medicine & Surgery\n",
            "\n",
            "Pharmacy\n",
            "\n",
            "Biochemistry\n",
            "\n",
            "Computer Science\n",
            "\n",
            "Industrial Chemistry\n",
            "\n",
            "Microbiology\n",
            "\n",
            "Medical Laboratory Science\n",
            "\n",
            "Optometry\n",
            "\n",
            "Public Health\n",
            "\n",
            "Nursing Science\n",
            "\n",
            "Madonna University, Okija Campus, Anambra State\n",
            "\n",
            "Founded in 1999, as the first campus o\n",
            "\n",
            "score: 0.9993513226509094\n",
            "--------------------------------------------------------------------------------\n",
            "\n",
            "id: 3a6489e40f774d598da39b3c085646ec\n",
            "\n",
            "text: Discover Madonna University, Nigeria - About Us\n",
            "\n",
            "Madonna's History\n",
            "\n",
            "Our story dates back to the late 90s, when Very Rev. Fr. Prof. E.M.P. Edeh CSSp, OFR, founded the prestigious Madonna University. By 1999, she had commenced active operation with the appro\n",
            "\n",
            "score: 0.9990987181663513\n",
            "--------------------------------------------------------------------------------\n",
            "\n",
            "id: 1ced22dcc6d44bad8171ec6afea723e4\n",
            "\n",
            "text: Medical Laboratory Science Department - Madonna University\n",
            "\n",
            "Medical Laboratory Science Department\n",
            "\n",
            "History\n",
            "\n",
            "The Department of Medical Laboratory Science of the Faculty of Health Sciences College of Health Sciences Madonna University was established in 2000\n",
            "\n",
            "score: 0.9930937886238098\n",
            "--------------------------------------------------------------------------------\n",
            "\n"
          ]
        }
      ]
    },
    {
      "cell_type": "markdown",
      "source": [
        "**Q&A Over Document**"
      ],
      "metadata": {
        "id": "tPcztTxA5g4X"
      }
    },
    {
      "cell_type": "code",
      "source": [
        "\n",
        "llm = ChatGroq(temperature=0, model_name=\"llama3-70b-8192\")"
      ],
      "metadata": {
        "id": "MVw8Ppfw5izV"
      },
      "execution_count": 28,
      "outputs": []
    },
    {
      "cell_type": "code",
      "source": [
        "prompt_template = \"\"\"\n",
        "You are a support chatbot for university student, use the following pieces of information to answer the user's question.\n",
        "If you don't know the answer, just say that you don't know, don't try to make up an answer.\n",
        "\n",
        "Context: {context}\n",
        "Question: {question}\n",
        "\n",
        "Answer the question and provide additional helpful information,\n",
        "based on the pieces of information, if applicable. Be succinct.\n",
        "\n",
        "Responses should be properly formatted to be easily read.\n",
        "\"\"\"\n",
        "\n",
        "prompt = PromptTemplate(\n",
        "    template=prompt_template, input_variables=[\"context\", \"question\"]\n",
        ")"
      ],
      "metadata": {
        "id": "NkD0de5v5myG"
      },
      "execution_count": 29,
      "outputs": []
    },
    {
      "cell_type": "code",
      "source": [
        "\n",
        "qa = RetrievalQA.from_chain_type(\n",
        "    llm=llm,\n",
        "    chain_type=\"stuff\",\n",
        "    retriever=compression_retriever,\n",
        "    return_source_documents=True,\n",
        "    chain_type_kwargs={\"prompt\": prompt, \"verbose\": True},\n",
        ")"
      ],
      "metadata": {
        "id": "Y2ZEtEh65qQg"
      },
      "execution_count": 30,
      "outputs": []
    },
    {
      "cell_type": "code",
      "source": [
        "\n",
        "%%time\n",
        "response = qa.invoke(\"What is the school vision\")"
      ],
      "metadata": {
        "id": "Vf2MImye5tfP",
        "colab": {
          "base_uri": "https://localhost:8080/"
        },
        "outputId": "fae0b1fe-9d8f-44b9-94bd-3a2f9a4b7a62"
      },
      "execution_count": 32,
      "outputs": [
        {
          "output_type": "stream",
          "name": "stdout",
          "text": [
            "Running pairwise ranking..\n",
            "\n",
            "\n",
            "\u001b[1m> Entering new StuffDocumentsChain chain...\u001b[0m\n",
            "\n",
            "\n",
            "\u001b[1m> Entering new LLMChain chain...\u001b[0m\n",
            "Prompt after formatting:\n",
            "\u001b[32;1m\u001b[1;3m\n",
            "You are a support chatbot for university student, use the following pieces of information to answer the user's question.\n",
            "If you don't know the answer, just say that you don't know, don't try to make up an answer.\n",
            "\n",
            "Context: Programme Structure\n",
            "\n",
            "The Department of Optometry, Madonna University runs a six-year unclassified Doctor of Optometry degree Programme. The Programme is geared towards training students to become competent professional optometrists. Courses to be taken include Basic Sciences (Physics, Chemistry, Biology, Mathematics); Social Sciences (Philosophy, Theology, Information Sciences, People and Culture, Psychology, Peace and Conflict resolution, Bioethics etc.); Languages (English, French and German); Basic medical sciences (Anatomy, Physiology, Biochemistry, Microbiology, Biostatistics etc.) and optometry courses which include: Optics, Clinical optometry, Contact lenses, Pediatric optometry, Binocular vision, Geriatric optometry, Practice management, Low vision, Public Health, Ocular diseases, Environmental optometry etc.\n",
            "\n",
            "The Programme also prepares the Doctor of Optometry graduating students for the numerous areas of specialization in the profession of Optometry, which include the following:\n",
            "\n",
            "Primary care Optometry.\n",
            "\n",
            "Cornea and contact lens care.\n",
            "\n",
            "Pediatric optometry.\n",
            "\n",
            "Orpoptics\n",
            "\n",
            "Ocular Healp Sciences\n",
            "\n",
            "Low vision and Rehabilitative Optometry.\n",
            "\n",
            "Environmental and Public Healp Optometry\n",
            "\n",
            "Vision Science.\n",
            "\n",
            "REGISTRATION WITH THE PROFESSIONAL BOARD\n",
            "\n",
            "When the student has fulfilled all requirements for graduation, he/she is considered to be an optometrist and is recommended by the department for registration as an Optometrist by the Optometrists and Dispensing Opticians Registration Board of Nigeria following oath taking ceremony for the graduate. The Optometrist subsequently undergoes a one-year Internship programme organized by the Board of Optometry.\n",
            "\n",
            "COURSE CODING INDEX (subject areas)\n",
            "\n",
            "Teachings are done by the use of power points projectors. Markers on white board are also used in teaching. Laboratory practical and clinical techniques are taught by the full time departmental staff and adjunct lecturers who are sourced both locally and internationally.\n",
            "\n",
            "Assessment\n",
            "\n",
            "The procedures used for assessment of students correspond to the knowledge, abilities and skills that are to be developed in the degree programme. Assessments are in the forms of the following:\n",
            "\n",
            "Formal examinations\n",
            "\n",
            "Laboratory reports/ records\n",
            "\n",
            "Problem-solving exercises\n",
            "\n",
            "Oral presentations\n",
            "\n",
            "Planning, conducting and reporting of research project work\n",
            "\n",
            "Research\n",
            "\n",
            "There are several research projects being undertaken in the department. Staff and students are involved in research in ocular health, community health optometry, and the visual sciences. Also, the department is involved in interdisciplinary research endeavors. Areas of research interest include refractive errors, colour vision, ocular health, blindness prevention, etcetera.\n",
            "\n",
            "JOB OPPORTUNITIES\n",
            "\n",
            "Doctors of optometry can practice the profession in the following settings:\n",
            "\n",
            "(a) Eye clinics in bop private and public organizations.\n",
            "(b) Teaching / lecturing in universities, polytechnics, colleges of education, etc.\n",
            "(b) Join pe medical corps of Armed Forces, Police, Immigration, Custom services, Federal Road Safety Commission etc.\n",
            "(c) Work as research fellows in research institutes, universities, etc.\n",
            "(e) Work as consultants to Companies, Ministries, Parastatals, etc.\n",
            "(f) Work as environmental vision consultants in pe workplace and sports.\n",
            "(g) Work as Public Healp practitioners.\n",
            "\n",
            "Admission Requirements\n",
            "\n",
            "(a) Unified Tertiary Matriculation Examination (UTME)\n",
            "\n",
            "Optometry Department - Madonna University\n",
            "\n",
            "Optometry Department\n",
            "\n",
            "Brief History of the Department\n",
            "\n",
            "The Department of Optometry, Madonna University, Nigeria offering a six-year degree programme leading to the award of Doctor of Optometry (O.D) was established in 2004 in the Faculty of Health sciences. The Department is poised to sustain the motto of the University, which is ‘Decency in Morals and Education’. The programme is designed to expose the student to the knowledge and skills needed to provide primary eye care as well as specialty care in all facets of optometry. The first set of students graduated in 2009 and several sets of students have since graduated from the program.\n",
            "\n",
            "Philosophy\n",
            "\n",
            "The philosophy of the Optometry programme encompasses teaching, research and service to mankind with dignity. Every subfield of optometry is constantly advancing in technological endeavors, consequently, the body of knowledge and skill necessary to cope with these advances need to be regularly reflected in the curriculum used in training of students and reviewed from time to time.\n",
            "\n",
            "Aims\n",
            "\n",
            "To instill in students, the knowledge and skill needed to practice optometry profession effectively and efficiently, and the need to be competent in all its applications in different contexts for the benefit of humanity worldwide.\n",
            "\n",
            "Objectives\n",
            "\n",
            "i. To provide students with a broad and balanced foundation of knowledge as well as practical and clinical skills in optometry.\n",
            "\n",
            "ii. To develop in students the ability to apply the acquired knowledge and skills to the solution of theoretical and practical problems in optometry.\n",
            "\n",
            "iii. To develop in students through an education in optometry, a wide range of transferable skills of value in optometry and non-optometry related employment and services.\n",
            "\n",
            "iv. To provide students with knowledge with which they can proceed to further studies in specialized areas of optometry.\n",
            "Question: What is the school vision\n",
            "\n",
            "Answer the question and provide additional helpful information,\n",
            "based on the pieces of information, if applicable. Be succinct.\n",
            "\n",
            "Responses should be properly formatted to be easily read.\n",
            "\u001b[0m\n",
            "\n",
            "\u001b[1m> Finished chain.\u001b[0m\n",
            "\n",
            "\u001b[1m> Finished chain.\u001b[0m\n",
            "CPU times: user 2.35 s, sys: 154 ms, total: 2.5 s\n",
            "Wall time: 3.22 s\n"
          ]
        }
      ]
    },
    {
      "cell_type": "code",
      "source": [
        "\n",
        "print_response(response)"
      ],
      "metadata": {
        "id": "OTR9CNXs5uc-",
        "colab": {
          "base_uri": "https://localhost:8080/"
        },
        "outputId": "33f77f28-5ab9-4340-fb42-0f868a8afc00"
      },
      "execution_count": 33,
      "outputs": [
        {
          "output_type": "stream",
          "name": "stdout",
          "text": [
            "**School Vision**\n",
            "\n",
            "The school's vision is not explicitly stated in the provided information. However, the philosophy of\n",
            "the Optometry programme is \"teaching, research and service to mankind with dignity.\"\n",
            "\n",
            "**Additional Information**\n",
            "\n",
            "The Department of Optometry at Madonna University aims to instill in students the knowledge and\n",
            "skills needed to practice optometry effectively and efficiently, and to be competent in all its\n",
            "applications for the benefit of humanity worldwide.\n"
          ]
        }
      ]
    },
    {
      "cell_type": "code",
      "source": [
        "qa = RetrievalQA.from_chain_type(\n",
        "    llm=llm,\n",
        "    chain_type=\"stuff\",\n",
        "    retriever=compression_retriever,\n",
        "    return_source_documents=True,\n",
        "    chain_type_kwargs={\"prompt\": prompt, \"verbose\": False},\n",
        ")"
      ],
      "metadata": {
        "id": "F-TPBRNh5yOh"
      },
      "execution_count": 34,
      "outputs": []
    },
    {
      "cell_type": "code",
      "source": [
        "\n",
        "%%time\n",
        "response = qa.invoke(\"what is the university vision\")"
      ],
      "metadata": {
        "id": "-olpD9ON50d-",
        "colab": {
          "base_uri": "https://localhost:8080/"
        },
        "outputId": "4bf60cd5-259f-42ca-f92c-0c24944f9e9d"
      },
      "execution_count": 37,
      "outputs": [
        {
          "output_type": "stream",
          "name": "stdout",
          "text": [
            "Running pairwise ranking..\n",
            "CPU times: user 2.38 s, sys: 105 ms, total: 2.48 s\n",
            "Wall time: 3.74 s\n"
          ]
        }
      ]
    },
    {
      "cell_type": "code",
      "source": [
        "print_response(response)"
      ],
      "metadata": {
        "colab": {
          "base_uri": "https://localhost:8080/"
        },
        "id": "6S-S9AnIC1XT",
        "outputId": "2e11f33a-2a03-415c-f4df-38644859ea78"
      },
      "execution_count": 38,
      "outputs": [
        {
          "output_type": "stream",
          "name": "stdout",
          "text": [
            "**University Vision**\n",
            "\n",
            "Unfortunately, the provided information does not explicitly state the university's vision. However,\n",
            "I can provide some context about the Department of Optometry's objectives and programme structure.\n",
            "\n",
            "The Department of Optometry at Madonna University aims to train students to become competent\n",
            "professional optometrists. The six-year Doctor of Optometry degree programme is designed to equip\n",
            "students with a broad range of skills and knowledge in basic sciences, social sciences, languages,\n",
            "and optometry courses.\n",
            "\n",
            "If you have any further questions or would like more information about the programme, feel free to\n",
            "ask!\n"
          ]
        }
      ]
    }
  ]
}